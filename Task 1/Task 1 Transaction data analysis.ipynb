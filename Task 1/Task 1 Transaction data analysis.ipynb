{
 "cells": [
  {
   "cell_type": "markdown",
   "id": "2d39a8e8",
   "metadata": {},
   "source": [
    "Import the needed libraries"
   ]
  },
  {
   "cell_type": "code",
   "execution_count": 31,
   "id": "d8bb9ab4",
   "metadata": {},
   "outputs": [],
   "source": [
    "\n",
    "import pandas as pd\n",
    "import numpy as np\n",
    "from datetime import datetime"
   ]
  },
  {
   "cell_type": "markdown",
   "id": "d58b46d8",
   "metadata": {},
   "source": [
    "#### Load the data"
   ]
  },
  {
   "cell_type": "code",
   "execution_count": 32,
   "id": "0cb6c3df",
   "metadata": {},
   "outputs": [],
   "source": [
    "\n",
    "file_path = r\"C:\\Users\\ASUS\\OneDrive\\Desktop\\Greedy Game\\Task 1\\1_txn_data.csv\"\n",
    "df = pd.read_csv(file_path)"
   ]
  },
  {
   "cell_type": "markdown",
   "id": "4370fdf6",
   "metadata": {},
   "source": [
    "### Basic data exploration\n",
    "I will be leveraging basic data exploration functions like columns.tolist(), head(),info(), describe()"
   ]
  },
  {
   "cell_type": "code",
   "execution_count": 33,
   "id": "5a7ce2e4",
   "metadata": {},
   "outputs": [
    {
     "name": "stdout",
     "output_type": "stream",
     "text": [
      "Dataset shape: (65936, 13)\n",
      "\n",
      "Column names:\n",
      "['adv_id', 'value_in_paise', 'payment_gateway', 'payment_method', 'payment_status', 'created_at', 'app_id', 'from_currency_amount', 'from_currency', 'to_currency_amount', 'to_currency', 'transaction_fee_amount', 'transaction_fee_currency']\n"
     ]
    }
   ],
   "source": [
    "\n",
    "print(\"Dataset shape:\", df.shape)\n",
    "print(\"\\nColumn names:\")\n",
    "print(df.columns.tolist())"
   ]
  },
  {
   "cell_type": "code",
   "execution_count": 34,
   "id": "99ac5400",
   "metadata": {},
   "outputs": [
    {
     "data": {
      "text/html": [
       "<div>\n",
       "<style scoped>\n",
       "    .dataframe tbody tr th:only-of-type {\n",
       "        vertical-align: middle;\n",
       "    }\n",
       "\n",
       "    .dataframe tbody tr th {\n",
       "        vertical-align: top;\n",
       "    }\n",
       "\n",
       "    .dataframe thead th {\n",
       "        text-align: right;\n",
       "    }\n",
       "</style>\n",
       "<table border=\"1\" class=\"dataframe\">\n",
       "  <thead>\n",
       "    <tr style=\"text-align: right;\">\n",
       "      <th></th>\n",
       "      <th>adv_id</th>\n",
       "      <th>value_in_paise</th>\n",
       "      <th>payment_gateway</th>\n",
       "      <th>payment_method</th>\n",
       "      <th>payment_status</th>\n",
       "      <th>created_at</th>\n",
       "      <th>app_id</th>\n",
       "      <th>from_currency_amount</th>\n",
       "      <th>from_currency</th>\n",
       "      <th>to_currency_amount</th>\n",
       "      <th>to_currency</th>\n",
       "      <th>transaction_fee_amount</th>\n",
       "      <th>transaction_fee_currency</th>\n",
       "    </tr>\n",
       "  </thead>\n",
       "  <tbody>\n",
       "    <tr>\n",
       "      <th>0</th>\n",
       "      <td>NaN</td>\n",
       "      <td>3000</td>\n",
       "      <td>RAZORPAY</td>\n",
       "      <td>UPI</td>\n",
       "      <td>PROCESSED</td>\n",
       "      <td>2024-10-18 09:34:14.247708+00:00</td>\n",
       "      <td>sikka</td>\n",
       "      <td>300.0</td>\n",
       "      <td>sikka</td>\n",
       "      <td>30.0</td>\n",
       "      <td>INR</td>\n",
       "      <td>130.0</td>\n",
       "      <td>paise</td>\n",
       "    </tr>\n",
       "    <tr>\n",
       "      <th>1</th>\n",
       "      <td>2d3ad81b-a068-460a-9f35-60d7df3c2b78</td>\n",
       "      <td>3000</td>\n",
       "      <td>RAZORPAY</td>\n",
       "      <td>UPI</td>\n",
       "      <td>PROCESSED</td>\n",
       "      <td>2024-10-18 09:34:14.247708+00:00</td>\n",
       "      <td>sikka</td>\n",
       "      <td>300.0</td>\n",
       "      <td>sikka</td>\n",
       "      <td>30.0</td>\n",
       "      <td>INR</td>\n",
       "      <td>130.0</td>\n",
       "      <td>paise</td>\n",
       "    </tr>\n",
       "    <tr>\n",
       "      <th>2</th>\n",
       "      <td>3052eb57-f48d-4bb5-9469-bf4e1c71c8a9</td>\n",
       "      <td>3000</td>\n",
       "      <td>RAZORPAY</td>\n",
       "      <td>UPI</td>\n",
       "      <td>PROCESSED</td>\n",
       "      <td>2024-10-18 09:34:14.247708+00:00</td>\n",
       "      <td>sikka</td>\n",
       "      <td>300.0</td>\n",
       "      <td>sikka</td>\n",
       "      <td>30.0</td>\n",
       "      <td>INR</td>\n",
       "      <td>130.0</td>\n",
       "      <td>paise</td>\n",
       "    </tr>\n",
       "    <tr>\n",
       "      <th>3</th>\n",
       "      <td>802684aa-0870-4258-9561-aa84f6aa88d8</td>\n",
       "      <td>3000</td>\n",
       "      <td>RAZORPAY</td>\n",
       "      <td>UPI</td>\n",
       "      <td>PROCESSED</td>\n",
       "      <td>2024-10-18 09:34:14.247708+00:00</td>\n",
       "      <td>sikka</td>\n",
       "      <td>300.0</td>\n",
       "      <td>sikka</td>\n",
       "      <td>30.0</td>\n",
       "      <td>INR</td>\n",
       "      <td>130.0</td>\n",
       "      <td>paise</td>\n",
       "    </tr>\n",
       "    <tr>\n",
       "      <th>4</th>\n",
       "      <td>92edbd60-5179-47ca-bb6d-122a157a27e0</td>\n",
       "      <td>3000</td>\n",
       "      <td>RAZORPAY</td>\n",
       "      <td>UPI</td>\n",
       "      <td>PROCESSED</td>\n",
       "      <td>2024-10-18 09:34:14.247708+00:00</td>\n",
       "      <td>sikka</td>\n",
       "      <td>300.0</td>\n",
       "      <td>sikka</td>\n",
       "      <td>30.0</td>\n",
       "      <td>INR</td>\n",
       "      <td>130.0</td>\n",
       "      <td>paise</td>\n",
       "    </tr>\n",
       "  </tbody>\n",
       "</table>\n",
       "</div>"
      ],
      "text/plain": [
       "                                 adv_id  value_in_paise payment_gateway  \\\n",
       "0                                   NaN            3000        RAZORPAY   \n",
       "1  2d3ad81b-a068-460a-9f35-60d7df3c2b78            3000        RAZORPAY   \n",
       "2  3052eb57-f48d-4bb5-9469-bf4e1c71c8a9            3000        RAZORPAY   \n",
       "3  802684aa-0870-4258-9561-aa84f6aa88d8            3000        RAZORPAY   \n",
       "4  92edbd60-5179-47ca-bb6d-122a157a27e0            3000        RAZORPAY   \n",
       "\n",
       "  payment_method payment_status                        created_at app_id  \\\n",
       "0            UPI      PROCESSED  2024-10-18 09:34:14.247708+00:00  sikka   \n",
       "1            UPI      PROCESSED  2024-10-18 09:34:14.247708+00:00  sikka   \n",
       "2            UPI      PROCESSED  2024-10-18 09:34:14.247708+00:00  sikka   \n",
       "3            UPI      PROCESSED  2024-10-18 09:34:14.247708+00:00  sikka   \n",
       "4            UPI      PROCESSED  2024-10-18 09:34:14.247708+00:00  sikka   \n",
       "\n",
       "   from_currency_amount from_currency  to_currency_amount to_currency  \\\n",
       "0                 300.0         sikka                30.0         INR   \n",
       "1                 300.0         sikka                30.0         INR   \n",
       "2                 300.0         sikka                30.0         INR   \n",
       "3                 300.0         sikka                30.0         INR   \n",
       "4                 300.0         sikka                30.0         INR   \n",
       "\n",
       "   transaction_fee_amount transaction_fee_currency  \n",
       "0                   130.0                    paise  \n",
       "1                   130.0                    paise  \n",
       "2                   130.0                    paise  \n",
       "3                   130.0                    paise  \n",
       "4                   130.0                    paise  "
      ]
     },
     "execution_count": 34,
     "metadata": {},
     "output_type": "execute_result"
    }
   ],
   "source": [
    "# Display first few rows\n",
    "df.head()"
   ]
  },
  {
   "cell_type": "code",
   "execution_count": 35,
   "id": "ee36477c",
   "metadata": {},
   "outputs": [
    {
     "name": "stdout",
     "output_type": "stream",
     "text": [
      "<class 'pandas.core.frame.DataFrame'>\n",
      "RangeIndex: 65936 entries, 0 to 65935\n",
      "Data columns (total 13 columns):\n",
      " #   Column                    Non-Null Count  Dtype  \n",
      "---  ------                    --------------  -----  \n",
      " 0   adv_id                    65914 non-null  object \n",
      " 1   value_in_paise            65936 non-null  int64  \n",
      " 2   payment_gateway           65936 non-null  object \n",
      " 3   payment_method            65936 non-null  object \n",
      " 4   payment_status            65936 non-null  object \n",
      " 5   created_at                65936 non-null  object \n",
      " 6   app_id                    65936 non-null  object \n",
      " 7   from_currency_amount      65936 non-null  float64\n",
      " 8   from_currency             65936 non-null  object \n",
      " 9   to_currency_amount        65936 non-null  float64\n",
      " 10  to_currency               65936 non-null  object \n",
      " 11  transaction_fee_amount    65936 non-null  float64\n",
      " 12  transaction_fee_currency  58450 non-null  object \n",
      "dtypes: float64(3), int64(1), object(9)\n",
      "memory usage: 6.5+ MB\n"
     ]
    }
   ],
   "source": [
    "# Check data types and basic info\n",
    "df.info()"
   ]
  },
  {
   "cell_type": "code",
   "execution_count": 36,
   "id": "e206b03e",
   "metadata": {},
   "outputs": [
    {
     "data": {
      "text/html": [
       "<div>\n",
       "<style scoped>\n",
       "    .dataframe tbody tr th:only-of-type {\n",
       "        vertical-align: middle;\n",
       "    }\n",
       "\n",
       "    .dataframe tbody tr th {\n",
       "        vertical-align: top;\n",
       "    }\n",
       "\n",
       "    .dataframe thead th {\n",
       "        text-align: right;\n",
       "    }\n",
       "</style>\n",
       "<table border=\"1\" class=\"dataframe\">\n",
       "  <thead>\n",
       "    <tr style=\"text-align: right;\">\n",
       "      <th></th>\n",
       "      <th>value_in_paise</th>\n",
       "      <th>from_currency_amount</th>\n",
       "      <th>to_currency_amount</th>\n",
       "      <th>transaction_fee_amount</th>\n",
       "    </tr>\n",
       "  </thead>\n",
       "  <tbody>\n",
       "    <tr>\n",
       "      <th>count</th>\n",
       "      <td>65936.000000</td>\n",
       "      <td>65936.000000</td>\n",
       "      <td>65936.000000</td>\n",
       "      <td>65936.000000</td>\n",
       "    </tr>\n",
       "    <tr>\n",
       "      <th>mean</th>\n",
       "      <td>3616.422728</td>\n",
       "      <td>1777.996668</td>\n",
       "      <td>185.791210</td>\n",
       "      <td>94.414408</td>\n",
       "    </tr>\n",
       "    <tr>\n",
       "      <th>std</th>\n",
       "      <td>4188.799537</td>\n",
       "      <td>3266.990251</td>\n",
       "      <td>1345.300481</td>\n",
       "      <td>57.957850</td>\n",
       "    </tr>\n",
       "    <tr>\n",
       "      <th>min</th>\n",
       "      <td>500.000000</td>\n",
       "      <td>5.000000</td>\n",
       "      <td>0.100000</td>\n",
       "      <td>0.000000</td>\n",
       "    </tr>\n",
       "    <tr>\n",
       "      <th>25%</th>\n",
       "      <td>1000.000000</td>\n",
       "      <td>50.000000</td>\n",
       "      <td>10.000000</td>\n",
       "      <td>0.000000</td>\n",
       "    </tr>\n",
       "    <tr>\n",
       "      <th>50%</th>\n",
       "      <td>3000.000000</td>\n",
       "      <td>300.000000</td>\n",
       "      <td>30.000000</td>\n",
       "      <td>130.000000</td>\n",
       "    </tr>\n",
       "    <tr>\n",
       "      <th>75%</th>\n",
       "      <td>5000.000000</td>\n",
       "      <td>1000.000000</td>\n",
       "      <td>50.000000</td>\n",
       "      <td>130.000000</td>\n",
       "    </tr>\n",
       "    <tr>\n",
       "      <th>max</th>\n",
       "      <td>50000.000000</td>\n",
       "      <td>50000.000000</td>\n",
       "      <td>50000.000000</td>\n",
       "      <td>130.000000</td>\n",
       "    </tr>\n",
       "  </tbody>\n",
       "</table>\n",
       "</div>"
      ],
      "text/plain": [
       "       value_in_paise  from_currency_amount  to_currency_amount  \\\n",
       "count    65936.000000          65936.000000        65936.000000   \n",
       "mean      3616.422728           1777.996668          185.791210   \n",
       "std       4188.799537           3266.990251         1345.300481   \n",
       "min        500.000000              5.000000            0.100000   \n",
       "25%       1000.000000             50.000000           10.000000   \n",
       "50%       3000.000000            300.000000           30.000000   \n",
       "75%       5000.000000           1000.000000           50.000000   \n",
       "max      50000.000000          50000.000000        50000.000000   \n",
       "\n",
       "       transaction_fee_amount  \n",
       "count            65936.000000  \n",
       "mean                94.414408  \n",
       "std                 57.957850  \n",
       "min                  0.000000  \n",
       "25%                  0.000000  \n",
       "50%                130.000000  \n",
       "75%                130.000000  \n",
       "max                130.000000  "
      ]
     },
     "execution_count": 36,
     "metadata": {},
     "output_type": "execute_result"
    }
   ],
   "source": [
    "# Basic statistics for numeric columns\n",
    "df.describe()"
   ]
  },
  {
   "cell_type": "markdown",
   "id": "ca72798e",
   "metadata": {},
   "source": [
    "whilst exploration I understood that, the created_at column does not have datetime datatype, hence to facilitate further EDA, I am converting it to, datetime datatype"
   ]
  },
  {
   "cell_type": "code",
   "execution_count": 37,
   "id": "ba9eb013",
   "metadata": {},
   "outputs": [],
   "source": [
    "# Convert created_at to datetime\n",
    "df['created_at'] = pd.to_datetime(df['created_at'])"
   ]
  },
  {
   "cell_type": "markdown",
   "id": "a987f4ce",
   "metadata": {},
   "source": [
    "It also makes sense to sort on the basis of date and the specific campaign or client for whom we are facilitating these transactions"
   ]
  },
  {
   "cell_type": "code",
   "execution_count": 38,
   "id": "04a342bf",
   "metadata": {},
   "outputs": [],
   "source": [
    "# Sort data by adv_id and created_at\n",
    "df = df.sort_values(['adv_id', 'created_at'])"
   ]
  },
  {
   "cell_type": "code",
   "execution_count": 39,
   "id": "ee79ff24",
   "metadata": {},
   "outputs": [],
   "source": [
    "# Add transaction sequence number for each user\n",
    "df['transaction_number'] = df.groupby('adv_id').cumcount() + 1"
   ]
  },
  {
   "cell_type": "code",
   "execution_count": 40,
   "id": "272d7f63",
   "metadata": {},
   "outputs": [
    {
     "data": {
      "text/plain": [
       "transaction_number\n",
       "1.0     28727\n",
       "2.0      8569\n",
       "3.0      4033\n",
       "4.0      2312\n",
       "5.0      1688\n",
       "6.0       896\n",
       "7.0       731\n",
       "8.0       633\n",
       "9.0       492\n",
       "10.0      455\n",
       "Name: count, dtype: int64"
      ]
     },
     "execution_count": 40,
     "metadata": {},
     "output_type": "execute_result"
    }
   ],
   "source": [
    "# Check transaction sequence distribution\n",
    "df['transaction_number'].value_counts().sort_index().head(10)"
   ]
  },
  {
   "cell_type": "markdown",
   "id": "fcfea8c3",
   "metadata": {},
   "source": [
    "This code finds and counts the first transaction of every user from the full list of transactions. I will be leveraging .copy() function to make a separate copy of this filtered data. The ==1 filters only those rows from the full data where the transaction number is 1.\n",
    "So, I am keeping only the first transaction of every user"
   ]
  },
  {
   "cell_type": "code",
   "execution_count": 41,
   "id": "edec033c",
   "metadata": {},
   "outputs": [
    {
     "name": "stdout",
     "output_type": "stream",
     "text": [
      "Total users who made first transaction: 28727\n"
     ]
    }
   ],
   "source": [
    "# Get first transactions for each user\n",
    "first_txns = df[df['transaction_number'] == 1].copy()\n",
    "print(f\"Total users who made first transaction: {len(first_txns)}\")"
   ]
  },
  {
   "cell_type": "markdown",
   "id": "65369dab",
   "metadata": {},
   "source": [
    "I will be repeating the same for the second section whilst changing the logic to ==2"
   ]
  },
  {
   "cell_type": "code",
   "execution_count": 42,
   "id": "2a47bf6f",
   "metadata": {},
   "outputs": [
    {
     "name": "stdout",
     "output_type": "stream",
     "text": [
      "Total users who made second transaction: 8569\n"
     ]
    }
   ],
   "source": [
    "# Get second transactions for each user\n",
    "second_txns = df[df['transaction_number'] == 2].copy()\n",
    "print(f\"Total users who made second transaction: {len(second_txns)}\")"
   ]
  },
  {
   "cell_type": "code",
   "execution_count": 43,
   "id": "b6fda502",
   "metadata": {},
   "outputs": [
    {
     "name": "stdout",
     "output_type": "stream",
     "text": [
      "Total users who made third transaction: 4033\n"
     ]
    }
   ],
   "source": [
    "# Get second transactions for each user\n",
    "second_txns = df[df['transaction_number'] == 3].copy()\n",
    "print(f\"Total users who made third transaction: {len(second_txns)}\")"
   ]
  },
  {
   "cell_type": "code",
   "execution_count": 44,
   "id": "28586395",
   "metadata": {},
   "outputs": [],
   "source": [
    "# Merge first and second transactions\n",
    "first_second_data = pd.merge(\n",
    "    first_txns[['adv_id', 'created_at']], \n",
    "    second_txns[['adv_id', 'created_at']], \n",
    "    on='adv_id', \n",
    "    suffixes=('_first', '_second')\n",
    ")"
   ]
  },
  {
   "cell_type": "markdown",
   "id": "7db67e3e",
   "metadata": {},
   "source": [
    "Once the transactions are merged we can now calculate the days between first and second transactions"
   ]
  },
  {
   "cell_type": "code",
   "execution_count": 45,
   "id": "7e2eff8d",
   "metadata": {},
   "outputs": [],
   "source": [
    "# Calculate days between first and second transaction\n",
    "first_second_data['days_diff'] = (first_second_data['created_at_second'] - \n",
    "                                 first_second_data['created_at_first']).dt.days"
   ]
  },
  {
   "cell_type": "markdown",
   "id": "d86f4bf8",
   "metadata": {},
   "source": [
    "### Answer Question 1 - Average time to second transaction"
   ]
  },
  {
   "cell_type": "code",
   "execution_count": 46,
   "id": "82cc5adb",
   "metadata": {},
   "outputs": [
    {
     "name": "stdout",
     "output_type": "stream",
     "text": [
      "Average days to second transaction: 1.50\n"
     ]
    }
   ],
   "source": [
    "\n",
    "avg_days_to_second = first_second_data['days_diff'].mean()\n",
    "print(f\"Average days to second transaction: {avg_days_to_second:.2f}\")"
   ]
  },
  {
   "cell_type": "markdown",
   "id": "a542d8eb",
   "metadata": {},
   "source": [
    "### Answer Question 2 - Percentage who made second transaction"
   ]
  },
  {
   "cell_type": "code",
   "execution_count": 47,
   "id": "440b3a2c",
   "metadata": {},
   "outputs": [
    {
     "name": "stdout",
     "output_type": "stream",
     "text": [
      "Percentage of users who made second transaction: 14.04%\n"
     ]
    }
   ],
   "source": [
    "total_first_users = len(first_txns)\n",
    "users_with_second = len(second_txns)\n",
    "second_txn_rate = (users_with_second / total_first_users) * 100\n",
    "print(f\"Percentage of users who made second transaction: {second_txn_rate:.2f}%\")"
   ]
  },
  {
   "cell_type": "code",
   "execution_count": 48,
   "id": "ef47196d",
   "metadata": {},
   "outputs": [
    {
     "name": "stdout",
     "output_type": "stream",
     "text": [
      "Total transactions after first: 37187\n"
     ]
    }
   ],
   "source": [
    "# To find all transactions after the first one\n",
    "after_first_txns = df[df['transaction_number'] > 1].copy()\n",
    "print(f\"Total transactions after first: {len(after_first_txns)}\")"
   ]
  },
  {
   "cell_type": "code",
   "execution_count": 49,
   "id": "85bac9e8",
   "metadata": {},
   "outputs": [],
   "source": [
    "# Convert value_in_paise to INR for better understanding\n",
    "after_first_txns['amount_inr'] = after_first_txns['value_in_paise'] / 100"
   ]
  },
  {
   "cell_type": "markdown",
   "id": "14be4f97",
   "metadata": {},
   "source": [
    "### Answer Question 3 - Average amount after first transaction"
   ]
  },
  {
   "cell_type": "code",
   "execution_count": 50,
   "id": "c8dd30b1",
   "metadata": {},
   "outputs": [
    {
     "name": "stdout",
     "output_type": "stream",
     "text": [
      "Average transaction amount after first: 45.17 INR\n"
     ]
    }
   ],
   "source": [
    "avg_amount_after_first = after_first_txns['amount_inr'].mean()\n",
    "print(f\"Average transaction amount after first: {avg_amount_after_first:.2f} INR\")"
   ]
  },
  {
   "cell_type": "code",
   "execution_count": 51,
   "id": "c8ab1e7a",
   "metadata": {},
   "outputs": [
    {
     "name": "stdout",
     "output_type": "stream",
     "text": [
      "--------------------------------------------------\n",
      "FINAL ANSWERS:\n",
      "--------------------------------------------------\n",
      "1. Average time to second transaction: 1.50 days\n",
      "2. Percentage who made second transaction: 14.04%\n",
      "3. Average amount after first transaction: 45.17 INR\n"
     ]
    }
   ],
   "source": [
    "# Cell 20: Summary of all answers\n",
    "print(\"-\"*50)\n",
    "print(\"FINAL ANSWERS:\")\n",
    "print(\"-\"*50)\n",
    "print(f\"1. Average time to second transaction: {avg_days_to_second:.2f} days\")\n",
    "print(f\"2. Percentage who made second transaction: {second_txn_rate:.2f}%\")\n",
    "print(f\"3. Average amount after first transaction: {avg_amount_after_first:.2f} INR\")"
   ]
  },
  {
   "cell_type": "code",
   "execution_count": 52,
   "id": "256f6136",
   "metadata": {},
   "outputs": [
    {
     "name": "stdout",
     "output_type": "stream",
     "text": [
      "\n",
      "Additional Statistics:\n",
      "Total unique users: 28727\n",
      "Total transactions: 65936\n",
      "Date range: 2024-10-16 00:01:41.904262+00:00 to 2024-10-23 23:58:52.890163+00:00\n"
     ]
    }
   ],
   "source": [
    "# The supplementary stats for context\n",
    "print(\"\\nAdditional Statistics:\")\n",
    "print(f\"Total unique users: {df['adv_id'].nunique()}\")\n",
    "print(f\"Total transactions: {len(df)}\")\n",
    "print(f\"Date range: {df['created_at'].min()} to {df['created_at'].max()}\")"
   ]
  },
  {
   "cell_type": "code",
   "execution_count": 53,
   "id": "ea68b0b3",
   "metadata": {},
   "outputs": [
    {
     "name": "stdout",
     "output_type": "stream",
     "text": [
      "Users with 1 transaction: 20158\n",
      "Users with 2 transactions: 4536\n",
      "Users with 3+ transactions: 4033\n"
     ]
    }
   ],
   "source": [
    "# Transaction frequency by user\n",
    "user_txn_counts = df['adv_id'].value_counts()\n",
    "print(f\"Users with 1 transaction: {sum(user_txn_counts == 1)}\")\n",
    "print(f\"Users with 2 transactions: {sum(user_txn_counts == 2)}\")\n",
    "print(f\"Users with 3+ transactions: {sum(user_txn_counts >= 3)}\")"
   ]
  },
  {
   "cell_type": "code",
   "execution_count": 54,
   "id": "b961e5d3",
   "metadata": {},
   "outputs": [
    {
     "name": "stdout",
     "output_type": "stream",
     "text": [
      "Average first transaction amount: 24.51 INR\n"
     ]
    }
   ],
   "source": [
    "# Average first transaction amount\n",
    "first_txns['amount_inr'] = first_txns['value_in_paise'] / 100\n",
    "avg_first_amount = first_txns['amount_inr'].mean()\n",
    "print(f\"Average first transaction amount: {avg_first_amount:.2f} INR\")"
   ]
  },
  {
   "cell_type": "code",
   "execution_count": 55,
   "id": "de1056e9",
   "metadata": {},
   "outputs": [
    {
     "name": "stdout",
     "output_type": "stream",
     "text": [
      "Distribution of amounts after first transaction:\n",
      "count    37187.000000\n",
      "mean        45.166037\n",
      "std         43.205085\n",
      "min          5.000000\n",
      "25%         10.000000\n",
      "50%         30.000000\n",
      "75%         50.000000\n",
      "max        500.000000\n",
      "Name: amount_inr, dtype: float64\n"
     ]
    }
   ],
   "source": [
    "# Distribution of subsequent transaction amounts\n",
    "print(\"Distribution of amounts after first transaction:\")\n",
    "print(after_first_txns['amount_inr'].describe())"
   ]
  },
  {
   "cell_type": "code",
   "execution_count": 56,
   "id": "794bbc54",
   "metadata": {},
   "outputs": [
    {
     "name": "stdout",
     "output_type": "stream",
     "text": [
      "\n",
      "Payment method distribution:\n",
      "payment_method\n",
      "UPI                  48173\n",
      "GIFT_CARD            14149\n",
      "PAYPAL_ID             2617\n",
      "TALKTIME               949\n",
      "LIGHTNING_ADDRESS       44\n",
      "VENMO_ID                 4\n",
      "Name: count, dtype: int64\n"
     ]
    }
   ],
   "source": [
    "# Payment method analysis\n",
    "print(\"\\nPayment method distribution:\")\n",
    "print(df['payment_method'].value_counts())"
   ]
  },
  {
   "cell_type": "code",
   "execution_count": 57,
   "id": "93be5d99",
   "metadata": {},
   "outputs": [
    {
     "name": "stdout",
     "output_type": "stream",
     "text": [
      "\n",
      "Payment status distribution:\n",
      "payment_status\n",
      "PROCESSED     55381\n",
      "FAILED         8099\n",
      "PROCESSING     2456\n",
      "Name: count, dtype: int64\n"
     ]
    }
   ],
   "source": [
    "# Payment status analysis\n",
    "print(\"\\nPayment status distribution:\")\n",
    "print(df['payment_status'].value_counts())"
   ]
  },
  {
   "cell_type": "code",
   "execution_count": 58,
   "id": "7a838d0c",
   "metadata": {},
   "outputs": [
    {
     "data": {
      "text/html": [
       "<div>\n",
       "<style scoped>\n",
       "    .dataframe tbody tr th:only-of-type {\n",
       "        vertical-align: middle;\n",
       "    }\n",
       "\n",
       "    .dataframe tbody tr th {\n",
       "        vertical-align: top;\n",
       "    }\n",
       "\n",
       "    .dataframe thead th {\n",
       "        text-align: right;\n",
       "    }\n",
       "</style>\n",
       "<table border=\"1\" class=\"dataframe\">\n",
       "  <thead>\n",
       "    <tr style=\"text-align: right;\">\n",
       "      <th></th>\n",
       "      <th>Metric</th>\n",
       "      <th>Value</th>\n",
       "    </tr>\n",
       "  </thead>\n",
       "  <tbody>\n",
       "    <tr>\n",
       "      <th>0</th>\n",
       "      <td>Average Days to Second Transaction</td>\n",
       "      <td>1.50</td>\n",
       "    </tr>\n",
       "    <tr>\n",
       "      <th>1</th>\n",
       "      <td>Second Transaction Rate (%)</td>\n",
       "      <td>14.04%</td>\n",
       "    </tr>\n",
       "    <tr>\n",
       "      <th>2</th>\n",
       "      <td>Average Amount After First Transaction (INR)</td>\n",
       "      <td>45.17</td>\n",
       "    </tr>\n",
       "  </tbody>\n",
       "</table>\n",
       "</div>"
      ],
      "text/plain": [
       "                                         Metric   Value\n",
       "0            Average Days to Second Transaction    1.50\n",
       "1                   Second Transaction Rate (%)  14.04%\n",
       "2  Average Amount After First Transaction (INR)   45.17"
      ]
     },
     "execution_count": 58,
     "metadata": {},
     "output_type": "execute_result"
    }
   ],
   "source": [
    "# I am Creating a results dataframe for a wholistic view\n",
    "results_df = pd.DataFrame({\n",
    "    'Metric': [\n",
    "        'Average Days to Second Transaction',\n",
    "        'Second Transaction Rate (%)',\n",
    "        'Average Amount After First Transaction (INR)'\n",
    "    ],\n",
    "    'Value': [\n",
    "        f\"{avg_days_to_second:.2f}\",\n",
    "        f\"{second_txn_rate:.2f}%\",\n",
    "        f\"{avg_amount_after_first:.2f}\"\n",
    "    ]\n",
    "})\n",
    "\n",
    "results_df"
   ]
  }
 ],
 "metadata": {
  "kernelspec": {
   "display_name": "Python 3",
   "language": "python",
   "name": "python3"
  },
  "language_info": {
   "codemirror_mode": {
    "name": "ipython",
    "version": 3
   },
   "file_extension": ".py",
   "mimetype": "text/x-python",
   "name": "python",
   "nbconvert_exporter": "python",
   "pygments_lexer": "ipython3",
   "version": "3.12.10"
  }
 },
 "nbformat": 4,
 "nbformat_minor": 5
}

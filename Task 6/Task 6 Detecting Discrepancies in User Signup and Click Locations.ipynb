{
 "cells": [
  {
   "cell_type": "markdown",
   "id": "873c4c9c",
   "metadata": {},
   "source": [
    "## Set Up The Data for Analysis"
   ]
  },
  {
   "cell_type": "code",
   "execution_count": 49,
   "id": "a86c2d97",
   "metadata": {},
   "outputs": [],
   "source": [
    "# Import necessary libraries\n",
    "import pandas as pd\n",
    "import requests"
   ]
  },
  {
   "cell_type": "markdown",
   "id": "c5b6d320",
   "metadata": {},
   "source": [
    "We should fetch the country data from the API and builds two dictionaries to map country IDs to codes and codes to names."
   ]
  },
  {
   "cell_type": "code",
   "execution_count": 50,
   "id": "3e564dfa",
   "metadata": {},
   "outputs": [],
   "source": [
    "# Download and prepare country mapping data\n",
    "url = \"https://dashboard.pubscale.com/json/country.json\"\n",
    "country_data = requests.get(url).json()\n",
    "\n",
    "# Create mapping dictionaries\n",
    "id_to_code = {}\n",
    "for country in country_data:\n",
    "    if isinstance(country.get('id'), int):\n",
    "        id_to_code[country['id']] = country['code']\n",
    "\n",
    "code_to_name = {}\n",
    "for country in country_data:\n",
    "    if 'code' in country:\n",
    "        code_to_name[country['code']] = country['name']"
   ]
  },
  {
   "cell_type": "markdown",
   "id": "23a91c0b",
   "metadata": {},
   "source": [
    "Now we can proceed to Load the user signup data, removes null and duplicate records, and maps country codes to country names for clarity."
   ]
  },
  {
   "cell_type": "code",
   "execution_count": 51,
   "id": "c3138cdb",
   "metadata": {},
   "outputs": [],
   "source": [
    "# Load and clean user_signup_location data\n",
    "signup_path = r\"C:\\Users\\ASUS\\OneDrive\\Desktop\\Greedy Game\\Task 6\\7_4_user_signup_location.csv\"\n",
    "signup_df = pd.read_csv(signup_path)\n",
    "\n",
    "# Clean data\n",
    "signup_df = signup_df.dropna(subset=['adv_id'])\n",
    "signup_df = signup_df.drop_duplicates()\n",
    "signup_df['signup_country_name'] = signup_df['country_code'].map(code_to_name)"
   ]
  },
  {
   "cell_type": "markdown",
   "id": "4d3f537e",
   "metadata": {},
   "source": [
    "Repeating the same for click data, removes incomplete rows, maps numeric country codes to ISO codes, and then maps those to readable country names for analysis."
   ]
  },
  {
   "cell_type": "code",
   "execution_count": 52,
   "id": "1fb7fb4c",
   "metadata": {},
   "outputs": [],
   "source": [
    "# Load and clean clicks_country data\n",
    "clicks_country_path = r\"C:\\Users\\ASUS\\OneDrive\\Desktop\\Greedy Game\\Task 6\\7_1_clicks_country.csv\"\n",
    "clicks_country_df = pd.read_csv(clicks_country_path)"
   ]
  },
  {
   "cell_type": "markdown",
   "id": "a7bf67c4",
   "metadata": {},
   "source": [
    "Let us do the same for country data"
   ]
  },
  {
   "cell_type": "code",
   "execution_count": 53,
   "id": "38f7089a",
   "metadata": {},
   "outputs": [],
   "source": [
    "# Clean and map country codes\n",
    "clicks_country_df = clicks_country_df.dropna()\n",
    "clicks_country_df['country_code'] = clicks_country_df['country_code'].astype(int)\n",
    "clicks_country_df['click_country_code'] = clicks_country_df['country_code'].map(id_to_code)\n",
    "clicks_country_df = clicks_country_df.dropna(subset=['click_country_code'])\n",
    "clicks_country_df['click_country_name'] = clicks_country_df['click_country_code'].map(code_to_name)"
   ]
  },
  {
   "cell_type": "markdown",
   "id": "eb81e387",
   "metadata": {},
   "source": [
    "Similarly we can load the click-level data, removes records without advertiser IDs, and standardizes column names by stripping extra whitespace."
   ]
  },
  {
   "cell_type": "code",
   "execution_count": 54,
   "id": "11fd9984",
   "metadata": {},
   "outputs": [],
   "source": [
    "# Load and clean clicks data\n",
    "clicks_path = r\"C:\\Users\\ASUS\\OneDrive\\Desktop\\Greedy Game\\Task 6\\7_2_clicks.csv\"\n",
    "clicks_df = pd.read_csv(clicks_path)\n",
    "\n",
    "# Clean data\n",
    "clicks_df = clicks_df.dropna(subset=['adv_id'])\n",
    "clicks_df.columns = clicks_df.columns.str.strip()  # Fix column names"
   ]
  },
  {
   "cell_type": "markdown",
   "id": "d6b2b5c4",
   "metadata": {},
   "source": [
    "## Data Cleaning & Enrichment"
   ]
  },
  {
   "cell_type": "markdown",
   "id": "39bd04aa",
   "metadata": {},
   "source": [
    "Let us join click data with country info using click_id to enrich each click with its corresponding country details."
   ]
  },
  {
   "cell_type": "code",
   "execution_count": 55,
   "id": "88e55185",
   "metadata": {},
   "outputs": [],
   "source": [
    "# Merge clicks and clicks_country data\n",
    "merged_clicks = pd.merge(\n",
    "    clicks_df,\n",
    "    clicks_country_df[['click_id', 'click_country_code', 'click_country_name']],\n",
    "    on='click_id',\n",
    "    how='left'\n",
    ")"
   ]
  },
  {
   "cell_type": "markdown",
   "id": "0561b146",
   "metadata": {},
   "source": [
    "Let us Further enrich the dataset by merging signup location details using adv_id to compare click and signup geographies."
   ]
  },
  {
   "cell_type": "code",
   "execution_count": 56,
   "id": "8a452bae",
   "metadata": {},
   "outputs": [],
   "source": [
    "# Merge with signup location data\n",
    "final_df = pd.merge(\n",
    "    merged_clicks,\n",
    "    signup_df[['adv_id', 'country_code', 'signup_country_name']],\n",
    "    on='adv_id',\n",
    "    how='left'\n",
    ")"
   ]
  },
  {
   "cell_type": "markdown",
   "id": "98a4a2dc",
   "metadata": {},
   "source": [
    "While we are at it, let us rename the signup country code column for clearer distinction between click and signup locations."
   ]
  },
  {
   "cell_type": "code",
   "execution_count": 57,
   "id": "a39cbd91",
   "metadata": {},
   "outputs": [],
   "source": [
    "# Rename columns for clarity\n",
    "final_df = final_df.rename(columns={\n",
    "    'country_code': 'signup_country_code'\n",
    "})"
   ]
  },
  {
   "cell_type": "markdown",
   "id": "4f731c6e",
   "metadata": {},
   "source": [
    "We also need to Flag rows where the signup and click country codes do not match, indicating potential location discrepancies."
   ]
  },
  {
   "cell_type": "code",
   "execution_count": 58,
   "id": "569683ee",
   "metadata": {},
   "outputs": [],
   "source": [
    "# Identify discrepancies\n",
    "final_df['is_discrepancy'] = final_df['signup_country_code'] != final_df['click_country_code']"
   ]
  },
  {
   "cell_type": "markdown",
   "id": "3680cd5b",
   "metadata": {},
   "source": [
    "Filters only mismatched records and exports them to a CSV for further investigation."
   ]
  },
  {
   "cell_type": "code",
   "execution_count": 59,
   "id": "e866d7b9",
   "metadata": {},
   "outputs": [],
   "source": [
    "# Save results for analysis\n",
    "discrepancies_df = final_df[final_df['is_discrepancy']]\n",
    "discrepancies_df.to_csv(\"country_discrepancies.csv\", index=False)"
   ]
  },
  {
   "cell_type": "markdown",
   "id": "57627d23",
   "metadata": {},
   "source": [
    "## Exploratory Data Analysis"
   ]
  },
  {
   "cell_type": "markdown",
   "id": "db93db94",
   "metadata": {},
   "source": [
    "Let us Perform a quick summary to quantify total clicks, mismatches, and the overall discrepancy rate."
   ]
  },
  {
   "cell_type": "code",
   "execution_count": 60,
   "id": "abfd86ab",
   "metadata": {},
   "outputs": [
    {
     "name": "stdout",
     "output_type": "stream",
     "text": [
      "Total clicks: 206855\n",
      "Clicks with discrepancies: 24573\n",
      "Discrepancy rate: 11.88%\n"
     ]
    }
   ],
   "source": [
    "# Basic analysis\n",
    "print(f\"Total clicks: {len(final_df)}\")\n",
    "print(f\"Clicks with discrepancies: {len(discrepancies_df)}\")\n",
    "print(f\"Discrepancy rate: {len(discrepancies_df)/len(final_df):.2%}\")"
   ]
  },
  {
   "cell_type": "markdown",
   "id": "b82eb8a6",
   "metadata": {},
   "source": [
    "Let's first Identify the top 10 mismatched signup-click country pairs by frequency to highlight common discrepancy patterns."
   ]
  },
  {
   "cell_type": "code",
   "execution_count": 61,
   "id": "51a232cb",
   "metadata": {},
   "outputs": [
    {
     "name": "stdout",
     "output_type": "stream",
     "text": [
      "\n",
      "Top 10 country discrepancy pairs:\n",
      "signup_country_name  click_country_name  \n",
      "India                Indonesia               7788\n",
      "                     Philippines             6011\n",
      "                     United Arab Emirates    3000\n",
      "                     United States           2994\n",
      "                     Thailand                1197\n",
      "                     Malaysia                 931\n",
      "                     Vietnam                  931\n",
      "                     France                   551\n",
      "                     Mexico                   449\n",
      "                     Russia                   136\n",
      "dtype: int64\n"
     ]
    }
   ],
   "source": [
    "# Top discrepancy country pairs\n",
    "top_pairs = discrepancies_df.groupby(['signup_country_name', 'click_country_name']).size().nlargest(10)\n",
    "print(\"\\nTop 10 country discrepancy pairs:\")\n",
    "print(top_pairs)"
   ]
  },
  {
   "cell_type": "markdown",
   "id": "d5950e83",
   "metadata": {},
   "source": [
    "It is also crucial to Highlight the top 10 advertisers with the highest number of country mismatches to flag potential anomalies."
   ]
  },
  {
   "cell_type": "code",
   "execution_count": 62,
   "id": "a6fbc840",
   "metadata": {},
   "outputs": [
    {
     "name": "stdout",
     "output_type": "stream",
     "text": [
      "\n",
      "Top 10 users with most discrepancies:\n",
      "adv_id\n",
      "0b255e12-79a0-496c-8be7-ef0753cf38d6    151\n",
      "0d95cd91-7a7f-423d-a525-c988bfddb743    151\n",
      "12201644-eea8-486d-b01c-31a42e2b6125    151\n",
      "1270700e-7782-446e-bdf1-19388053dd37    151\n",
      "13f9b106-72d9-475c-b31c-ef7fe89c62c0    151\n",
      "1c997f04-63a6-49d9-94d5-8e22cc83e1e0    151\n",
      "2d60ae46-5a96-414e-83a1-05990fa3f836    151\n",
      "2ff218b8-3c68-4409-9501-b9a80d46c7f6    151\n",
      "44aa26f3-9bb9-4f1d-8f56-d874af291b7a    151\n",
      "4ae830e1-97c9-4ac4-bf8f-fa46f7c35755    151\n",
      "dtype: int64\n"
     ]
    }
   ],
   "source": [
    "# Users with most discrepancies\n",
    "top_users = discrepancies_df.groupby('adv_id').size().nlargest(10)\n",
    "print(\"\\nTop 10 users with most discrepancies:\")\n",
    "print(top_users)"
   ]
  },
  {
   "cell_type": "markdown",
   "id": "a013f179",
   "metadata": {},
   "source": [
    "It makese strong sense to Analyze user click volume and mismatch rate to flag highly active users with over 80% discrepancies as potentially suspicious."
   ]
  },
  {
   "cell_type": "code",
   "execution_count": 63,
   "id": "6a42b284",
   "metadata": {},
   "outputs": [
    {
     "name": "stdout",
     "output_type": "stream",
     "text": [
      "\n",
      "Hyperactive suspicious users: 37\n",
      "Avg clicks: 170.0\n",
      "Avg discrepancy rate: 88.82%\n"
     ]
    }
   ],
   "source": [
    "# Calculate click frequency\n",
    "click_frequency = final_df.groupby('adv_id')['click_id'].count().reset_index(name='total_clicks')\n",
    "\n",
    "# Merge with discrepancies\n",
    "user_engagement = pd.merge(\n",
    "    click_frequency,\n",
    "    discrepancies_df.groupby('adv_id')['click_id'].count().reset_index(name='discrepant_clicks'),\n",
    "    on='adv_id',\n",
    "    how='left'\n",
    ").fillna(0)\n",
    "\n",
    "# Identify hyperactive users\n",
    "hyperactive_users = user_engagement[\n",
    "    (user_engagement['total_clicks'] > 100) & \n",
    "    (user_engagement['discrepant_clicks']/user_engagement['total_clicks'] > 0.8)\n",
    "]\n",
    "print(f\"\\nHyperactive suspicious users: {len(hyperactive_users)}\")\n",
    "print(f\"Avg clicks: {hyperactive_users['total_clicks'].mean():.1f}\")\n",
    "print(f\"Avg discrepancy rate: {hyperactive_users['discrepant_clicks'].mean()/hyperactive_users['total_clicks'].mean():.2%}\")"
   ]
  },
  {
   "cell_type": "markdown",
   "id": "66d5538e",
   "metadata": {},
   "source": [
    "Let us also Detect users with click activity across multiple countries and lists top mismatched signup-click patterns to uncover cross-border behavior trends."
   ]
  },
  {
   "cell_type": "code",
   "execution_count": 64,
   "id": "812bfc8e",
   "metadata": {},
   "outputs": [
    {
     "name": "stdout",
     "output_type": "stream",
     "text": [
      "\n",
      "Users active in multiple countries: 489\n",
      "Percentage of total users: 1.30%\n",
      "\n",
      "Top 10 country-hop patterns:\n",
      "   signup_country_code click_country_code  count\n",
      "60                  IN                 ID   7788\n",
      "68                  IN                 PH   6011\n",
      "53                  IN                 AE   3000\n",
      "73                  IN                 US   2994\n",
      "72                  IN                 TH   1197\n",
      "74                  IN                 VN    931\n",
      "64                  IN                 MY    931\n",
      "58                  IN                 FR    551\n",
      "63                  IN                 MX    449\n",
      "70                  IN                 RU    136\n"
     ]
    }
   ],
   "source": [
    "# Identify users active in >1 country\n",
    "user_countries = final_df.groupby('adv_id').agg(\n",
    "    signup_country=('signup_country_code', 'first'),\n",
    "    unique_click_countries=('click_country_code', 'nunique')\n",
    ")\n",
    "\n",
    "multi_country_users = user_countries[user_countries['unique_click_countries'] > 1]\n",
    "print(f\"\\nUsers active in multiple countries: {len(multi_country_users)}\")\n",
    "print(f\"Percentage of total users: {len(multi_country_users)/len(user_countries):.2%}\")\n",
    "\n",
    "# Top country-hopping patterns\n",
    "country_hops = final_df.groupby(['signup_country_code', 'click_country_code']).size().reset_index(name='count')\n",
    "country_hops = country_hops[country_hops['signup_country_code'] != country_hops['click_country_code']]\n",
    "print(\"\\nTop 10 country-hop patterns:\")\n",
    "print(country_hops.sort_values('count', ascending=False).head(10))"
   ]
  },
  {
   "cell_type": "markdown",
   "id": "49d85b80",
   "metadata": {},
   "source": [
    "We can also Examine which rewards are most associated with location mismatches, indicating potential abuse or targeting anomalies."
   ]
  },
  {
   "cell_type": "code",
   "execution_count": 65,
   "id": "a0089785",
   "metadata": {},
   "outputs": [
    {
     "name": "stdout",
     "output_type": "stream",
     "text": [
      "\n",
      "Top 10 rewards targeted in discrepancies:\n",
      "           total_discrepancies  unique_users\n",
      "reward_id                                   \n",
      "513529                    2825           367\n",
      "493787                    1652           182\n",
      "519189                    1286           322\n",
      "508087                    1184           249\n",
      "513534                    1141           309\n",
      "191251                    1030           144\n",
      "519188                     980           310\n",
      "519146                     948           232\n",
      "493788                     935           136\n",
      "493560                     934           136\n"
     ]
    }
   ],
   "source": [
    "# Analyze rewards in discrepant clicks\n",
    "reward_analysis = discrepancies_df.groupby('reward_id').agg(\n",
    "    total_discrepancies=('click_id', 'count'),\n",
    "    unique_users=('adv_id', 'nunique')\n",
    ").sort_values('total_discrepancies', ascending=False).head(10)\n",
    "\n",
    "print(\"\\nTop 10 rewards targeted in discrepancies:\")\n",
    "print(reward_analysis)"
   ]
  },
  {
   "cell_type": "markdown",
   "id": "14600ce4",
   "metadata": {},
   "source": [
    "## Simplified Fraud Scoring"
   ]
  },
  {
   "cell_type": "code",
   "execution_count": 66,
   "id": "c80b5577",
   "metadata": {},
   "outputs": [],
   "source": [
    "# Calculate basic user metrics\n",
    "user_stats = final_df.groupby('adv_id').agg(\n",
    "    total_clicks=('click_id', 'count'),\n",
    "    discrepant_clicks=('is_discrepancy', 'sum'),\n",
    "    unique_click_countries=('click_country_code', 'nunique'),\n",
    "    unique_rewards=('reward_id', 'nunique')\n",
    ").reset_index()\n",
    "\n",
    "# Calculate discrepancy rate\n",
    "user_stats['discrepancy_rate'] = user_stats['discrepant_clicks'] / user_stats['total_clicks']"
   ]
  },
  {
   "cell_type": "code",
   "execution_count": 67,
   "id": "1c139e5b",
   "metadata": {},
   "outputs": [],
   "source": [
    "def simple_fraud_score(row):\n",
    "    score = 0\n",
    "    \n",
    "    # 1. Discrepancy contribution (max 50 points)\n",
    "    score += min(row['discrepancy_rate'] * 50, 50)\n",
    "    \n",
    "    # 2. Multi-country usage (max 20 points)\n",
    "    if row['unique_click_countries'] > 1:\n",
    "        score += min(row['unique_click_countries'] * 5, 20)\n",
    "    \n",
    "    # 3. High click volume (max 15 points)\n",
    "    if row['total_clicks'] > 50:\n",
    "        score += 15\n",
    "    elif row['total_clicks'] > 20:\n",
    "        score += 8\n",
    "    \n",
    "    # 4. Reward diversity (max 15 points)\n",
    "    if row['unique_rewards'] > 5:\n",
    "        score += min(row['unique_rewards'] * 2, 15)\n",
    "    \n",
    "    return min(score, 100)  # Cap at 100\n",
    "\n",
    "# Apply scoring\n",
    "user_stats['fraud_score'] = user_stats.apply(simple_fraud_score, axis=1)"
   ]
  },
  {
   "cell_type": "code",
   "execution_count": 68,
   "id": "a919c09a",
   "metadata": {},
   "outputs": [],
   "source": [
    "def classify_risk(score):\n",
    "    if score > 75: return 'CRITICAL'\n",
    "    elif score > 50: return 'HIGH'\n",
    "    elif score > 25: return 'MEDIUM'\n",
    "    elif score > 10: return 'LOW'\n",
    "    else: return 'MINIMAL'\n",
    "\n",
    "user_stats['risk_level'] = user_stats['fraud_score'].apply(classify_risk)"
   ]
  },
  {
   "cell_type": "code",
   "execution_count": 69,
   "id": "05a13e2f",
   "metadata": {},
   "outputs": [
    {
     "name": "stdout",
     "output_type": "stream",
     "text": [
      "TOP 10 COUNTRY DISCREPANCY ROUTES:\n",
      "   signup_country_name    click_country_name  count\n",
      "9                India             Indonesia   7788\n",
      "16               India           Philippines   6011\n",
      "22               India  United Arab Emirates   3000\n",
      "24               India         United States   2994\n",
      "21               India              Thailand   1197\n",
      "25               India               Vietnam    931\n",
      "11               India              Malaysia    931\n",
      "7                India                France    551\n",
      "12               India                Mexico    449\n",
      "18               India                Russia    136\n",
      "\n",
      "FRAUD RISK BY SIGNUP COUNTRY:\n",
      "                     avg_fraud_score  critical_users\n",
      "signup_country_name                                 \n",
      "Peru                       30.294118               0\n",
      "Netherlands                20.000000               0\n",
      "Singapore                  18.750000               0\n",
      "El Salvador                16.666667               0\n",
      "Chile                      15.000000               0\n",
      "Puerto Rico                14.000000               0\n",
      "Jamaica                    12.142857               0\n",
      "Panama                      8.000000               0\n",
      "Rwanda                      7.388889               0\n",
      "Iraq                        5.750000               0\n"
     ]
    }
   ],
   "source": [
    "# Top discrepancy countries\n",
    "country_discrepancies = final_df[final_df['is_discrepancy']].groupby(\n",
    "    ['signup_country_name', 'click_country_name']\n",
    ").size().reset_index(name='count')\n",
    "\n",
    "# Show top 10 suspicious routes\n",
    "top_routes = country_discrepancies.sort_values('count', ascending=False).head(10)\n",
    "print(\"TOP 10 COUNTRY DISCREPANCY ROUTES:\")\n",
    "print(top_routes)\n",
    "\n",
    "# Calculate fraud density by country\n",
    "fraud_by_country = user_stats.merge(\n",
    "    signup_df[['adv_id', 'signup_country_name']],\n",
    "    on='adv_id'\n",
    ").groupby('signup_country_name').agg(\n",
    "    avg_fraud_score=('fraud_score', 'mean'),\n",
    "    critical_users=('risk_level', lambda x: (x == 'CRITICAL').sum())\n",
    ").sort_values('avg_fraud_score', ascending=False)\n",
    "\n",
    "print(\"\\nFRAUD RISK BY SIGNUP COUNTRY:\")\n",
    "print(fraud_by_country.head(10))"
   ]
  },
  {
   "cell_type": "code",
   "execution_count": 70,
   "id": "ced06008",
   "metadata": {},
   "outputs": [
    {
     "name": "stdout",
     "output_type": "stream",
     "text": [
      "\n",
      "FRAUD RISK DISTRIBUTION:\n",
      "risk_level\n",
      "CRITICAL      234\n",
      "HIGH          232\n",
      "LOW          4279\n",
      "MEDIUM        448\n",
      "MINIMAL     32511\n",
      "Name: count, dtype: int64\n",
      "\n",
      "TOP 10 SUSPECTED USERS:\n",
      "                                     adv_id  fraud_score risk_level\n",
      "2612   1270700e-7782-446e-bdf1-19388053dd37    94.411765   CRITICAL\n",
      "2567   12201644-eea8-486d-b01c-31a42e2b6125    94.411765   CRITICAL\n",
      "1938   0d95cd91-7a7f-423d-a525-c988bfddb743    94.411765   CRITICAL\n",
      "4075   1c997f04-63a6-49d9-94d5-8e22cc83e1e0    94.411765   CRITICAL\n",
      "2844   13f9b106-72d9-475c-b31c-ef7fe89c62c0    94.411765   CRITICAL\n",
      "24999  a9c17a3d-a5ea-4d20-9db7-3ad422750ad3    94.411765   CRITICAL\n",
      "25917  b0102003-07a6-47f9-882d-0b708925e445    94.411765   CRITICAL\n",
      "23913  a2a3ad87-a401-49ff-8ca7-527378bfb8b5    94.411765   CRITICAL\n",
      "6928   2ff218b8-3c68-4409-9501-b9a80d46c7f6    94.411765   CRITICAL\n",
      "6582   2d60ae46-5a96-414e-83a1-05990fa3f836    94.411765   CRITICAL\n"
     ]
    }
   ],
   "source": [
    "# Risk distribution\n",
    "risk_dist = user_stats['risk_level'].value_counts().sort_index()\n",
    "print(\"\\nFRAUD RISK DISTRIBUTION:\")\n",
    "print(risk_dist)\n",
    "\n",
    "# Top suspicious users\n",
    "top_suspects = user_stats[user_stats['risk_level'].isin(['CRITICAL', 'HIGH'])].sort_values(\n",
    "    'fraud_score', ascending=False\n",
    ").head(10)\n",
    "print(\"\\nTOP 10 SUSPECTED USERS:\")\n",
    "print(top_suspects[['adv_id', 'fraud_score', 'risk_level']])"
   ]
  }
 ],
 "metadata": {
  "kernelspec": {
   "display_name": "Python 3",
   "language": "python",
   "name": "python3"
  },
  "language_info": {
   "codemirror_mode": {
    "name": "ipython",
    "version": 3
   },
   "file_extension": ".py",
   "mimetype": "text/x-python",
   "name": "python",
   "nbconvert_exporter": "python",
   "pygments_lexer": "ipython3",
   "version": "3.12.10"
  }
 },
 "nbformat": 4,
 "nbformat_minor": 5
}

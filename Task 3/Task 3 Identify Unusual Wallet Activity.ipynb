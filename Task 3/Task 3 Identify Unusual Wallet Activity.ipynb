{
 "cells": [
  {
   "cell_type": "markdown",
   "id": "fc489688",
   "metadata": {},
   "source": [
    "### Import libraries"
   ]
  },
  {
   "cell_type": "code",
   "execution_count": 38,
   "id": "d2fd5e8f",
   "metadata": {},
   "outputs": [],
   "source": [
    "import pandas as pd\n",
    "import numpy as np\n",
    "from datetime import datetime, timedelta\n",
    "import matplotlib.pyplot as plt\n",
    "import seaborn as sns"
   ]
  },
  {
   "cell_type": "code",
   "execution_count": 39,
   "id": "4e996b98",
   "metadata": {},
   "outputs": [],
   "source": [
    "# Loading the wallet transaction data\n",
    "file_path = r\"C:\\Users\\ASUS\\OneDrive\\Desktop\\Greedy Game\\Task 3\\3_wallet_data.csv\"\n",
    "df = pd.read_csv(file_path)"
   ]
  },
  {
   "cell_type": "markdown",
   "id": "b33a2d21",
   "metadata": {},
   "source": [
    "### Exploratory Data Analysis"
   ]
  },
  {
   "cell_type": "code",
   "execution_count": 40,
   "id": "ad774a2d",
   "metadata": {},
   "outputs": [
    {
     "name": "stdout",
     "output_type": "stream",
     "text": [
      "Dataset shape: (1048575, 6)\n",
      "\n",
      "Column names:\n",
      "['adv_id', 'transaction_type', 'value', 'currency', 'source_entity_type', 'created_at']\n"
     ]
    }
   ],
   "source": [
    "# Basic data exploration\n",
    "print(\"Dataset shape:\", df.shape)\n",
    "print(\"\\nColumn names:\")\n",
    "print(df.columns.tolist())"
   ]
  },
  {
   "cell_type": "code",
   "execution_count": 41,
   "id": "f86fb31b",
   "metadata": {},
   "outputs": [
    {
     "data": {
      "text/html": [
       "<div>\n",
       "<style scoped>\n",
       "    .dataframe tbody tr th:only-of-type {\n",
       "        vertical-align: middle;\n",
       "    }\n",
       "\n",
       "    .dataframe tbody tr th {\n",
       "        vertical-align: top;\n",
       "    }\n",
       "\n",
       "    .dataframe thead th {\n",
       "        text-align: right;\n",
       "    }\n",
       "</style>\n",
       "<table border=\"1\" class=\"dataframe\">\n",
       "  <thead>\n",
       "    <tr style=\"text-align: right;\">\n",
       "      <th></th>\n",
       "      <th>adv_id</th>\n",
       "      <th>transaction_type</th>\n",
       "      <th>value</th>\n",
       "      <th>currency</th>\n",
       "      <th>source_entity_type</th>\n",
       "      <th>created_at</th>\n",
       "    </tr>\n",
       "  </thead>\n",
       "  <tbody>\n",
       "    <tr>\n",
       "      <th>0</th>\n",
       "      <td>d016c006-f927-48bc-987d-40a2f3f4648b</td>\n",
       "      <td>DEBIT</td>\n",
       "      <td>1.01</td>\n",
       "      <td>rupiyo_token</td>\n",
       "      <td>OFFER_REWARD</td>\n",
       "      <td>2024-10-21 15:48:09.797749+00:00</td>\n",
       "    </tr>\n",
       "    <tr>\n",
       "      <th>1</th>\n",
       "      <td>d016c006-f927-48bc-987d-40a2f3f4648b</td>\n",
       "      <td>DEBIT</td>\n",
       "      <td>0.02</td>\n",
       "      <td>rupiyo_token</td>\n",
       "      <td>DAILY_CHECKIN</td>\n",
       "      <td>2024-10-21 15:48:22.378338+00:00</td>\n",
       "    </tr>\n",
       "    <tr>\n",
       "      <th>2</th>\n",
       "      <td>d016c006-f927-48bc-987d-40a2f3f4648b</td>\n",
       "      <td>DEBIT</td>\n",
       "      <td>0.05</td>\n",
       "      <td>rupiyo_token</td>\n",
       "      <td>DAILY_CHECKIN</td>\n",
       "      <td>2024-10-22 02:52:52.695171+00:00</td>\n",
       "    </tr>\n",
       "    <tr>\n",
       "      <th>3</th>\n",
       "      <td>d016c006-f927-48bc-987d-40a2f3f4648b</td>\n",
       "      <td>DEBIT</td>\n",
       "      <td>0.10</td>\n",
       "      <td>rupiyo_token</td>\n",
       "      <td>DAILY_CHECKIN</td>\n",
       "      <td>2024-10-23 03:08:36.180386+00:00</td>\n",
       "    </tr>\n",
       "    <tr>\n",
       "      <th>4</th>\n",
       "      <td>ed359404-3d8a-4f3e-9d4e-38e6ef575254</td>\n",
       "      <td>DEBIT</td>\n",
       "      <td>1.01</td>\n",
       "      <td>rupiyo_token</td>\n",
       "      <td>OFFER_REWARD</td>\n",
       "      <td>2024-10-21 15:48:09.797749+00:00</td>\n",
       "    </tr>\n",
       "  </tbody>\n",
       "</table>\n",
       "</div>"
      ],
      "text/plain": [
       "                                 adv_id transaction_type  value      currency  \\\n",
       "0  d016c006-f927-48bc-987d-40a2f3f4648b            DEBIT   1.01  rupiyo_token   \n",
       "1  d016c006-f927-48bc-987d-40a2f3f4648b            DEBIT   0.02  rupiyo_token   \n",
       "2  d016c006-f927-48bc-987d-40a2f3f4648b            DEBIT   0.05  rupiyo_token   \n",
       "3  d016c006-f927-48bc-987d-40a2f3f4648b            DEBIT   0.10  rupiyo_token   \n",
       "4  ed359404-3d8a-4f3e-9d4e-38e6ef575254            DEBIT   1.01  rupiyo_token   \n",
       "\n",
       "  source_entity_type                        created_at  \n",
       "0       OFFER_REWARD  2024-10-21 15:48:09.797749+00:00  \n",
       "1      DAILY_CHECKIN  2024-10-21 15:48:22.378338+00:00  \n",
       "2      DAILY_CHECKIN  2024-10-22 02:52:52.695171+00:00  \n",
       "3      DAILY_CHECKIN  2024-10-23 03:08:36.180386+00:00  \n",
       "4       OFFER_REWARD  2024-10-21 15:48:09.797749+00:00  "
      ]
     },
     "execution_count": 41,
     "metadata": {},
     "output_type": "execute_result"
    }
   ],
   "source": [
    "# Display first few rows\n",
    "df.head()"
   ]
  },
  {
   "cell_type": "code",
   "execution_count": 42,
   "id": "e28d5717",
   "metadata": {},
   "outputs": [
    {
     "name": "stdout",
     "output_type": "stream",
     "text": [
      "<class 'pandas.core.frame.DataFrame'>\n",
      "RangeIndex: 1048575 entries, 0 to 1048574\n",
      "Data columns (total 6 columns):\n",
      " #   Column              Non-Null Count    Dtype  \n",
      "---  ------              --------------    -----  \n",
      " 0   adv_id              1047979 non-null  object \n",
      " 1   transaction_type    1048575 non-null  object \n",
      " 2   value               1048575 non-null  float64\n",
      " 3   currency            1048575 non-null  object \n",
      " 4   source_entity_type  1048575 non-null  object \n",
      " 5   created_at          1048575 non-null  object \n",
      "dtypes: float64(1), object(5)\n",
      "memory usage: 48.0+ MB\n"
     ]
    }
   ],
   "source": [
    "# Check data types and basic info\n",
    "df.info()"
   ]
  },
  {
   "cell_type": "code",
   "execution_count": 43,
   "id": "8d373d80",
   "metadata": {},
   "outputs": [
    {
     "data": {
      "text/html": [
       "<div>\n",
       "<style scoped>\n",
       "    .dataframe tbody tr th:only-of-type {\n",
       "        vertical-align: middle;\n",
       "    }\n",
       "\n",
       "    .dataframe tbody tr th {\n",
       "        vertical-align: top;\n",
       "    }\n",
       "\n",
       "    .dataframe thead th {\n",
       "        text-align: right;\n",
       "    }\n",
       "</style>\n",
       "<table border=\"1\" class=\"dataframe\">\n",
       "  <thead>\n",
       "    <tr style=\"text-align: right;\">\n",
       "      <th></th>\n",
       "      <th>value</th>\n",
       "    </tr>\n",
       "  </thead>\n",
       "  <tbody>\n",
       "    <tr>\n",
       "      <th>count</th>\n",
       "      <td>1.048575e+06</td>\n",
       "    </tr>\n",
       "    <tr>\n",
       "      <th>mean</th>\n",
       "      <td>2.778373e+02</td>\n",
       "    </tr>\n",
       "    <tr>\n",
       "      <th>std</th>\n",
       "      <td>1.043008e+03</td>\n",
       "    </tr>\n",
       "    <tr>\n",
       "      <th>min</th>\n",
       "      <td>0.000000e+00</td>\n",
       "    </tr>\n",
       "    <tr>\n",
       "      <th>25%</th>\n",
       "      <td>3.885000e+01</td>\n",
       "    </tr>\n",
       "    <tr>\n",
       "      <th>50%</th>\n",
       "      <td>1.137500e+02</td>\n",
       "    </tr>\n",
       "    <tr>\n",
       "      <th>75%</th>\n",
       "      <td>2.600000e+02</td>\n",
       "    </tr>\n",
       "    <tr>\n",
       "      <th>max</th>\n",
       "      <td>9.323820e+04</td>\n",
       "    </tr>\n",
       "  </tbody>\n",
       "</table>\n",
       "</div>"
      ],
      "text/plain": [
       "              value\n",
       "count  1.048575e+06\n",
       "mean   2.778373e+02\n",
       "std    1.043008e+03\n",
       "min    0.000000e+00\n",
       "25%    3.885000e+01\n",
       "50%    1.137500e+02\n",
       "75%    2.600000e+02\n",
       "max    9.323820e+04"
      ]
     },
     "execution_count": 43,
     "metadata": {},
     "output_type": "execute_result"
    }
   ],
   "source": [
    "# Basic statistics\n",
    "df.describe()"
   ]
  },
  {
   "cell_type": "markdown",
   "id": "8245fbcd",
   "metadata": {},
   "source": [
    "### Data type handling\n",
    "Since the datetime function has time some places and doesn't have time at some places, we will be using mixed format"
   ]
  },
  {
   "cell_type": "code",
   "execution_count": 44,
   "id": "fc422696",
   "metadata": {},
   "outputs": [],
   "source": [
    "# Convert created_at to datetime (handling mixed formats)\n",
    "df['created_at'] = pd.to_datetime(df['created_at'], format='mixed')"
   ]
  },
  {
   "cell_type": "code",
   "execution_count": 45,
   "id": "06f50e27",
   "metadata": {},
   "outputs": [
    {
     "name": "stdout",
     "output_type": "stream",
     "text": [
      "Transaction types:\n",
      "transaction_type\n",
      "DEBIT    1048575\n",
      "Name: count, dtype: int64\n"
     ]
    }
   ],
   "source": [
    "# Check transaction types\n",
    "print(\"Transaction types:\")\n",
    "print(df['transaction_type'].value_counts())"
   ]
  },
  {
   "cell_type": "code",
   "execution_count": 46,
   "id": "fd73cba0",
   "metadata": {},
   "outputs": [
    {
     "name": "stdout",
     "output_type": "stream",
     "text": [
      "\n",
      "Currency distribution:\n",
      "currency\n",
      "offerwall_319     202073\n",
      "offerwall_59      118763\n",
      "sikka              62680\n",
      "rupiyo_token       61403\n",
      "offerwall_1048     54662\n",
      "                   ...  \n",
      "offerwall_630          2\n",
      "offerwall_410          1\n",
      "offerwall_697          1\n",
      "offerwall_356          1\n",
      "offerwall_380          1\n",
      "Name: count, Length: 134, dtype: int64\n"
     ]
    }
   ],
   "source": [
    "# Check currencies\n",
    "print(\"\\nCurrency distribution:\")\n",
    "print(df['currency'].value_counts())"
   ]
  },
  {
   "cell_type": "code",
   "execution_count": 47,
   "id": "bcab7535",
   "metadata": {},
   "outputs": [
    {
     "name": "stdout",
     "output_type": "stream",
     "text": [
      "\n",
      "Source entity types:\n",
      "source_entity_type\n",
      "OFFER_REWARD            906521\n",
      "DAILY_CHECKIN            69994\n",
      "SPIN_WHEEL               30827\n",
      "BITLABS_SURVEY           28518\n",
      "REFERRAL                  9654\n",
      "TRANSACTION_REVERSAL      1960\n",
      "ADJOE                      988\n",
      "MOCK_OFFER_REWARD           76\n",
      "CONTEST_REWARD              37\n",
      "Name: count, dtype: int64\n"
     ]
    }
   ],
   "source": [
    "# Check source entity types\n",
    "print(\"\\nSource entity types:\")\n",
    "print(df['source_entity_type'].value_counts())"
   ]
  },
  {
   "cell_type": "code",
   "execution_count": 48,
   "id": "8f2696ff",
   "metadata": {},
   "outputs": [],
   "source": [
    "# Sort data by user and date\n",
    "df = df.sort_values(['adv_id', 'created_at'])"
   ]
  },
  {
   "cell_type": "code",
   "execution_count": 49,
   "id": "f4288a72",
   "metadata": {},
   "outputs": [],
   "source": [
    "# Create user-level transaction summary\n",
    "user_stats = df.groupby('adv_id').agg({\n",
    "    'value': ['count', 'sum', 'mean', 'std', 'min', 'max'],\n",
    "    'created_at': ['min', 'max'],\n",
    "    'transaction_type': lambda x: x.value_counts().to_dict(),\n",
    "    'currency': lambda x: x.nunique(),\n",
    "    'source_entity_type': lambda x: x.nunique()\n",
    "}).round(2)"
   ]
  },
  {
   "cell_type": "code",
   "execution_count": 50,
   "id": "b1272678",
   "metadata": {},
   "outputs": [],
   "source": [
    "# Flatten column names\n",
    "user_stats.columns = ['_'.join(col).strip() for col in user_stats.columns]\n",
    "user_stats = user_stats.reset_index()"
   ]
  },
  {
   "cell_type": "code",
   "execution_count": 51,
   "id": "53eab69d",
   "metadata": {},
   "outputs": [],
   "source": [
    "# Calculate additional metrics\n",
    "user_stats['total_transactions'] = user_stats['value_count']\n",
    "user_stats['total_amount'] = user_stats['value_sum']\n",
    "user_stats['avg_transaction'] = user_stats['value_mean']\n",
    "user_stats['amount_std'] = user_stats['value_std']"
   ]
  },
  {
   "cell_type": "code",
   "execution_count": 52,
   "id": "3d9ce548",
   "metadata": {},
   "outputs": [],
   "source": [
    "# Calculate transaction frequency (transactions per day)\n",
    "user_stats['date_range'] = (user_stats['created_at_max'] - user_stats['created_at_min']).dt.days + 1\n",
    "user_stats['txn_frequency'] = user_stats['total_transactions'] / user_stats['date_range']"
   ]
  },
  {
   "cell_type": "code",
   "execution_count": 53,
   "id": "425c17dd",
   "metadata": {},
   "outputs": [],
   "source": [
    "# Extract DEBIT and CREDIT counts from transaction_type column\n",
    "def extract_txn_counts(txn_dict):\n",
    "    if pd.isna(txn_dict) or txn_dict == '{}':\n",
    "        return 0, 0\n",
    "    txn_dict = eval(txn_dict) if isinstance(txn_dict, str) else txn_dict\n",
    "    debit_count = txn_dict.get('DEBIT', 0)\n",
    "    credit_count = txn_dict.get('CREDIT', 0)\n",
    "    return debit_count, credit_count\n",
    "\n",
    "user_stats[['debit_count', 'credit_count']] = user_stats['transaction_type_<lambda>'].apply(\n",
    "    lambda x: pd.Series(extract_txn_counts(x))\n",
    ")"
   ]
  },
  {
   "cell_type": "code",
   "execution_count": 54,
   "id": "c900bb76",
   "metadata": {},
   "outputs": [],
   "source": [
    "# Calculate debit/credit ratios\n",
    "user_stats['debit_ratio'] = user_stats['debit_count'] / user_stats['total_transactions']\n",
    "user_stats['credit_ratio'] = user_stats['credit_count'] / user_stats['total_transactions']"
   ]
  },
  {
   "cell_type": "code",
   "execution_count": 55,
   "id": "fcb8a14f",
   "metadata": {},
   "outputs": [],
   "source": [
    "# Calculate separate amounts for DEBIT and CREDIT\n",
    "debit_amounts = df[df['transaction_type'] == 'DEBIT'].groupby('adv_id')['value'].sum()\n",
    "credit_amounts = df[df['transaction_type'] == 'CREDIT'].groupby('adv_id')['value'].sum()\n",
    "user_stats['total_debit_amount'] = user_stats['adv_id'].map(debit_amounts).fillna(0)\n",
    "user_stats['total_credit_amount'] = user_stats['adv_id'].map(credit_amounts).fillna(0)"
   ]
  },
  {
   "cell_type": "code",
   "execution_count": 56,
   "id": "f6f73300",
   "metadata": {},
   "outputs": [],
   "source": [
    "# Calculate net balance and transaction imbalance\n",
    "user_stats['net_balance'] = user_stats['total_credit_amount'] - user_stats['total_debit_amount']\n",
    "user_stats['amount_imbalance'] = abs(user_stats['net_balance'])"
   ]
  },
  {
   "cell_type": "code",
   "execution_count": 57,
   "id": "1ad0ceb6",
   "metadata": {},
   "outputs": [],
   "source": [
    "# Identify statistical outliers using IQR method\n",
    "def detect_outliers_iqr(data, column):\n",
    "    Q1 = data[column].quantile(0.25)\n",
    "    Q3 = data[column].quantile(0.75)\n",
    "    IQR = Q3 - Q1\n",
    "    lower_bound = Q1 - 1.5 * IQR\n",
    "    upper_bound = Q3 + 1.5 * IQR\n",
    "    return (data[column] < lower_bound) | (data[column] > upper_bound)"
   ]
  },
  {
   "cell_type": "code",
   "execution_count": 58,
   "id": "12c01fd3",
   "metadata": {},
   "outputs": [],
   "source": [
    "# Apply outlier detection to key metrics\n",
    "user_stats['outlier_total_amount'] = detect_outliers_iqr(user_stats, 'total_amount')\n",
    "user_stats['outlier_avg_transaction'] = detect_outliers_iqr(user_stats, 'avg_transaction')\n",
    "user_stats['outlier_txn_frequency'] = detect_outliers_iqr(user_stats, 'txn_frequency')\n",
    "user_stats['outlier_amount_imbalance'] = detect_outliers_iqr(user_stats, 'amount_imbalance')"
   ]
  },
  {
   "cell_type": "code",
   "execution_count": 59,
   "id": "90cb6639",
   "metadata": {},
   "outputs": [],
   "source": [
    "# Create composite anomaly score\n",
    "user_stats['anomaly_score'] = (\n",
    "    user_stats['outlier_total_amount'].astype(int) +\n",
    "    user_stats['outlier_avg_transaction'].astype(int) +\n",
    "    user_stats['outlier_txn_frequency'].astype(int) +\n",
    "    user_stats['outlier_amount_imbalance'].astype(int)\n",
    ")"
   ]
  },
  {
   "cell_type": "code",
   "execution_count": 60,
   "id": "03a0d23f",
   "metadata": {},
   "outputs": [
    {
     "name": "stdout",
     "output_type": "stream",
     "text": [
      "Users with high anomaly scores (>=2): 12228\n"
     ]
    }
   ],
   "source": [
    "# Identify high-risk users based on anomaly score\n",
    "high_risk_users = user_stats[user_stats['anomaly_score'] >= 2].copy()\n",
    "print(f\"Users with high anomaly scores (>=2): {len(high_risk_users)}\")"
   ]
  },
  {
   "cell_type": "code",
   "execution_count": 61,
   "id": "d1adad1e",
   "metadata": {},
   "outputs": [],
   "source": [
    "# Additional fraud indicators\n",
    "user_stats['very_high_frequency'] = user_stats['txn_frequency'] > user_stats['txn_frequency'].quantile(0.95)\n",
    "user_stats['very_high_amount'] = user_stats['total_amount'] > user_stats['total_amount'].quantile(0.95)\n",
    "user_stats['only_debits'] = user_stats['credit_count'] == 0\n",
    "user_stats['only_credits'] = user_stats['debit_count'] == 0"
   ]
  },
  {
   "cell_type": "code",
   "execution_count": 62,
   "id": "500c8674",
   "metadata": {},
   "outputs": [],
   "source": [
    "# Calculate Z-scores for key metrics\n",
    "from scipy import stats\n",
    "user_stats['z_score_amount'] = np.abs(stats.zscore(user_stats['total_amount']))\n",
    "user_stats['z_score_frequency'] = np.abs(stats.zscore(user_stats['txn_frequency']))\n",
    "user_stats['z_score_avg_txn'] = np.abs(stats.zscore(user_stats['avg_transaction']))"
   ]
  },
  {
   "cell_type": "code",
   "execution_count": 63,
   "id": "bd0ea179",
   "metadata": {},
   "outputs": [
    {
     "name": "stdout",
     "output_type": "stream",
     "text": [
      "Users with extreme Z-scores (>3): 3886\n"
     ]
    }
   ],
   "source": [
    "# Identify users with extreme Z-scores\n",
    "extreme_users = user_stats[\n",
    "    (user_stats['z_score_amount'] > 3) | \n",
    "    (user_stats['z_score_frequency'] > 3) | \n",
    "    (user_stats['z_score_avg_txn'] > 3)\n",
    "].copy()\n",
    "\n",
    "print(f\"Users with extreme Z-scores (>3): {len(extreme_users)}\")"
   ]
  },
  {
   "cell_type": "code",
   "execution_count": 64,
   "id": "e3db2678",
   "metadata": {},
   "outputs": [],
   "source": [
    "# Time-based anomaly detection\n",
    "df['hour'] = df['created_at'].dt.hour\n",
    "df['day_of_week'] = df['created_at'].dt.dayofweek\n",
    "df['is_weekend'] = df['day_of_week'].isin([5, 6])"
   ]
  },
  {
   "cell_type": "code",
   "execution_count": 65,
   "id": "9593adc6",
   "metadata": {},
   "outputs": [],
   "source": [
    "# Unusual timing patterns\n",
    "unusual_timing = df.groupby('adv_id').agg({\n",
    "    'hour': lambda x: len(set(x)),\n",
    "    'is_weekend': 'mean',\n",
    "    'created_at': lambda x: x.dt.date.nunique()\n",
    "}).rename(columns={\n",
    "    'hour': 'unique_hours',\n",
    "    'is_weekend': 'weekend_ratio',\n",
    "    'created_at': 'active_days'\n",
    "})"
   ]
  },
  {
   "cell_type": "code",
   "execution_count": 66,
   "id": "bad8e826",
   "metadata": {},
   "outputs": [],
   "source": [
    "# Merge timing data with user stats\n",
    "user_stats = user_stats.merge(unusual_timing, left_on='adv_id', right_index=True, how='left')"
   ]
  },
  {
   "cell_type": "code",
   "execution_count": 67,
   "id": "536654d2",
   "metadata": {},
   "outputs": [],
   "source": [
    "# Identify users with unusual timing patterns\n",
    "user_stats['unusual_timing'] = (\n",
    "    (user_stats['weekend_ratio'] > 0.8) |  # Heavy weekend activity\n",
    "    (user_stats['unique_hours'] <= 2)      # Activity concentrated in very few hours\n",
    ")"
   ]
  },
  {
   "cell_type": "code",
   "execution_count": 68,
   "id": "5054f35e",
   "metadata": {},
   "outputs": [],
   "source": [
    "# Create final fraud risk score\n",
    "user_stats['fraud_risk_score'] = (\n",
    "    user_stats['anomaly_score'] * 0.3 +\n",
    "    user_stats['very_high_frequency'].astype(int) * 0.2 +\n",
    "    user_stats['very_high_amount'].astype(int) * 0.2 +\n",
    "    (user_stats['only_debits'] | user_stats['only_credits']).astype(int) * 0.2 +\n",
    "    user_stats['unusual_timing'].astype(int) * 0.1\n",
    ")"
   ]
  },
  {
   "cell_type": "code",
   "execution_count": 69,
   "id": "a03ac84e",
   "metadata": {},
   "outputs": [],
   "source": [
    "# Classify users by risk level\n",
    "def classify_risk(score):\n",
    "    if score >= 0.8:\n",
    "        return 'Very High Risk'\n",
    "    elif score >= 0.6:\n",
    "        return 'High Risk'\n",
    "    elif score >= 0.4:\n",
    "        return 'Medium Risk'\n",
    "    else:\n",
    "        return 'Low Risk'\n",
    "\n",
    "user_stats['risk_category'] = user_stats['fraud_risk_score'].apply(classify_risk)"
   ]
  },
  {
   "cell_type": "code",
   "execution_count": 70,
   "id": "4e4b88d9",
   "metadata": {},
   "outputs": [
    {
     "name": "stdout",
     "output_type": "stream",
     "text": [
      "Risk category distribution:\n",
      "risk_category\n",
      "Low Risk          114661\n",
      "Very High Risk     12228\n",
      "High Risk           6466\n",
      "Medium Risk         3121\n",
      "Name: count, dtype: int64\n"
     ]
    }
   ],
   "source": [
    "# Summary of risk categories\n",
    "print(\"Risk category distribution:\")\n",
    "print(user_stats['risk_category'].value_counts())"
   ]
  },
  {
   "cell_type": "code",
   "execution_count": 71,
   "id": "e7734d4d",
   "metadata": {},
   "outputs": [
    {
     "name": "stdout",
     "output_type": "stream",
     "text": [
      "\n",
      "Top 10 most suspicious users:\n",
      "                                      adv_id  fraud_risk_score  \\\n",
      "556     00fed42c-bb7c-4548-bb4b-39ca52153dda               1.9   \n",
      "72415   8795a4e5-f808-4f2e-b1bd-2b1564cd7e19               1.9   \n",
      "103618  c2493a80-27a3-4823-a240-715077afd3a5               1.9   \n",
      "117651  dcd6adcf-1778-460b-9ba2-1f209cdc6899               1.9   \n",
      "122207  e5656f49-6f3e-4b31-944a-dea37839a050               1.9   \n",
      "124474  e99c3065-9237-4eee-8610-02588ee32015               1.9   \n",
      "40      00111b7f-5eb1-4713-804c-14903398e1ba               1.8   \n",
      "218     00647267-52a7-4b91-8293-23610a4eac3d               1.8   \n",
      "382     00aab9f9-0447-4b82-b3a4-d5ecfbf6ff18               1.8   \n",
      "415     00bcb239-62c3-4f83-a4d1-5e7c25dd8270               1.8   \n",
      "\n",
      "         risk_category  total_transactions  total_amount  txn_frequency  \\\n",
      "556     Very High Risk                   8       5941.43          8.000   \n",
      "72415   Very High Risk                   8      19890.00          8.000   \n",
      "103618  Very High Risk                   8      19890.00          8.000   \n",
      "117651  Very High Risk                   7       6076.39          7.000   \n",
      "122207  Very High Risk                   7       6076.39          7.000   \n",
      "124474  Very High Risk                   8       5941.43          8.000   \n",
      "40      Very High Risk                  80      35668.35         16.000   \n",
      "218     Very High Risk                  49      69167.50          7.000   \n",
      "382     Very High Risk                 121    1139664.11         15.125   \n",
      "415     Very High Risk                  80      35668.35         16.000   \n",
      "\n",
      "        debit_ratio  credit_ratio  \n",
      "556             1.0           0.0  \n",
      "72415           1.0           0.0  \n",
      "103618          1.0           0.0  \n",
      "117651          1.0           0.0  \n",
      "122207          1.0           0.0  \n",
      "124474          1.0           0.0  \n",
      "40              1.0           0.0  \n",
      "218             1.0           0.0  \n",
      "382             1.0           0.0  \n",
      "415             1.0           0.0  \n"
     ]
    }
   ],
   "source": [
    "# Top suspicious users\n",
    "top_suspicious = user_stats.nlargest(10, 'fraud_risk_score')[\n",
    "    ['adv_id', 'fraud_risk_score', 'risk_category', 'total_transactions', \n",
    "     'total_amount', 'txn_frequency', 'debit_ratio', 'credit_ratio']\n",
    "]\n",
    "\n",
    "print(\"\\nTop 10 most suspicious users:\")\n",
    "print(top_suspicious)"
   ]
  },
  {
   "cell_type": "code",
   "execution_count": 72,
   "id": "2d51aa35",
   "metadata": {},
   "outputs": [
    {
     "name": "stdout",
     "output_type": "stream",
     "text": [
      "\n",
      "Fraud Indicators Summary:\n",
      "Very High Transaction Frequency: 6804 users\n",
      "Very High Transaction Amounts: 6810 users\n",
      "Only Debit Transactions: 136476 users\n",
      "Only Credit Transactions: 0 users\n",
      "Unusual Timing Patterns: 35269 users\n",
      "High Anomaly Score (>=2): 12228 users\n"
     ]
    }
   ],
   "source": [
    "# Fraud indicators summary\n",
    "fraud_indicators = {\n",
    "    'Very High Transaction Frequency': len(user_stats[user_stats['very_high_frequency']]),\n",
    "    'Very High Transaction Amounts': len(user_stats[user_stats['very_high_amount']]),\n",
    "    'Only Debit Transactions': len(user_stats[user_stats['only_debits']]),\n",
    "    'Only Credit Transactions': len(user_stats[user_stats['only_credits']]),\n",
    "    'Unusual Timing Patterns': len(user_stats[user_stats['unusual_timing']]),\n",
    "    'High Anomaly Score (>=2)': len(user_stats[user_stats['anomaly_score'] >= 2])\n",
    "}\n",
    "\n",
    "print(\"\\nFraud Indicators Summary:\")\n",
    "for indicator, count in fraud_indicators.items():\n",
    "    print(f\"{indicator}: {count} users\")"
   ]
  },
  {
   "cell_type": "code",
   "execution_count": 73,
   "id": "64d52e50",
   "metadata": {},
   "outputs": [
    {
     "name": "stdout",
     "output_type": "stream",
     "text": [
      "\n",
      "Detailed analysis of 18694 high-risk users:\n",
      "Average transactions: 22.17\n",
      "Average total amount: 10461.92\n",
      "Average frequency: 5.05 txns/day\n"
     ]
    }
   ],
   "source": [
    "# Detailed analysis of high-risk users\n",
    "high_risk_detailed = user_stats[user_stats['risk_category'].isin(['High Risk', 'Very High Risk'])].copy()\n",
    "\n",
    "print(f\"\\nDetailed analysis of {len(high_risk_detailed)} high-risk users:\")\n",
    "print(f\"Average transactions: {high_risk_detailed['total_transactions'].mean():.2f}\")\n",
    "print(f\"Average total amount: {high_risk_detailed['total_amount'].mean():.2f}\")\n",
    "print(f\"Average frequency: {high_risk_detailed['txn_frequency'].mean():.2f} txns/day\")"
   ]
  },
  {
   "cell_type": "code",
   "execution_count": 74,
   "id": "397f1842",
   "metadata": {},
   "outputs": [
    {
     "name": "stdout",
     "output_type": "stream",
     "text": [
      "\n",
      "Fraud Risk Summary:\n",
      "       Risk Level  User Count  Percentage\n",
      "0  Very High Risk       12228        8.96\n",
      "1       High Risk        6466        4.74\n",
      "2     Medium Risk        3121        2.29\n",
      "3        Low Risk      114661       84.02\n"
     ]
    }
   ],
   "source": [
    "# Create final results summary\n",
    "results_summary = pd.DataFrame({\n",
    "    'Risk Level': ['Very High Risk', 'High Risk', 'Medium Risk', 'Low Risk'],\n",
    "    'User Count': [\n",
    "        len(user_stats[user_stats['risk_category'] == 'Very High Risk']),\n",
    "        len(user_stats[user_stats['risk_category'] == 'High Risk']),\n",
    "        len(user_stats[user_stats['risk_category'] == 'Medium Risk']),\n",
    "        len(user_stats[user_stats['risk_category'] == 'Low Risk'])\n",
    "    ]\n",
    "})\n",
    "\n",
    "results_summary['Percentage'] = (results_summary['User Count'] / len(user_stats) * 100).round(2)\n",
    "\n",
    "print(\"\\nFraud Risk Summary:\")\n",
    "print(results_summary)"
   ]
  }
 ],
 "metadata": {
  "kernelspec": {
   "display_name": "Python 3",
   "language": "python",
   "name": "python3"
  },
  "language_info": {
   "codemirror_mode": {
    "name": "ipython",
    "version": 3
   },
   "file_extension": ".py",
   "mimetype": "text/x-python",
   "name": "python",
   "nbconvert_exporter": "python",
   "pygments_lexer": "ipython3",
   "version": "3.12.10"
  }
 },
 "nbformat": 4,
 "nbformat_minor": 5
}

{
 "cells": [
  {
   "cell_type": "markdown",
   "id": "c2ff27f0",
   "metadata": {},
   "source": [
    "### Import libraries"
   ]
  },
  {
   "cell_type": "code",
   "execution_count": 2,
   "id": "13b8db73",
   "metadata": {},
   "outputs": [],
   "source": [
    "import pandas as pd\n",
    "import numpy as np\n",
    "from datetime import datetime, timedelta\n",
    "import matplotlib.pyplot as plt\n",
    "import seaborn as sns"
   ]
  },
  {
   "cell_type": "code",
   "execution_count": 3,
   "id": "ece01502",
   "metadata": {},
   "outputs": [],
   "source": [
    "# Load the upvote/downvote data\n",
    "file_path = r\"C:\\Users\\ASUS\\OneDrive\\Desktop\\Greedy Game\\Task 4\\4_voting_data.csv\"\n",
    "df = pd.read_csv(file_path)"
   ]
  },
  {
   "cell_type": "markdown",
   "id": "7c232705",
   "metadata": {},
   "source": [
    "### Exploratory Data Analysis"
   ]
  },
  {
   "cell_type": "code",
   "execution_count": 4,
   "id": "55edd136",
   "metadata": {},
   "outputs": [
    {
     "name": "stdout",
     "output_type": "stream",
     "text": [
      "Dataset shape: (1048575, 8)\n",
      "\n",
      "Column names:\n",
      "['adv_id', 'offer_id', 'app_id', 'state', 'comment', 'ip', 'country_code', 'created_at']\n"
     ]
    }
   ],
   "source": [
    "# Basic data exploration\n",
    "print(\"Dataset shape:\", df.shape)\n",
    "print(\"\\nColumn names:\")\n",
    "print(df.columns.tolist())"
   ]
  },
  {
   "cell_type": "code",
   "execution_count": 5,
   "id": "6b0afdac",
   "metadata": {},
   "outputs": [
    {
     "data": {
      "text/html": [
       "<div>\n",
       "<style scoped>\n",
       "    .dataframe tbody tr th:only-of-type {\n",
       "        vertical-align: middle;\n",
       "    }\n",
       "\n",
       "    .dataframe tbody tr th {\n",
       "        vertical-align: top;\n",
       "    }\n",
       "\n",
       "    .dataframe thead th {\n",
       "        text-align: right;\n",
       "    }\n",
       "</style>\n",
       "<table border=\"1\" class=\"dataframe\">\n",
       "  <thead>\n",
       "    <tr style=\"text-align: right;\">\n",
       "      <th></th>\n",
       "      <th>adv_id</th>\n",
       "      <th>offer_id</th>\n",
       "      <th>app_id</th>\n",
       "      <th>state</th>\n",
       "      <th>comment</th>\n",
       "      <th>ip</th>\n",
       "      <th>country_code</th>\n",
       "      <th>created_at</th>\n",
       "    </tr>\n",
       "  </thead>\n",
       "  <tbody>\n",
       "    <tr>\n",
       "      <th>0</th>\n",
       "      <td>5ba99349-0e56-4a15-96d8-6708f21ae548</td>\n",
       "      <td>254610</td>\n",
       "      <td>rupiyo</td>\n",
       "      <td>UP</td>\n",
       "      <td>NaN</td>\n",
       "      <td>152.58.197.244</td>\n",
       "      <td>IN</td>\n",
       "      <td>2024-10-17 08:38:41.178855+00:00</td>\n",
       "    </tr>\n",
       "    <tr>\n",
       "      <th>1</th>\n",
       "      <td>d016c006-f927-48bc-987d-40a2f3f4648b</td>\n",
       "      <td>258019</td>\n",
       "      <td>rupiyo</td>\n",
       "      <td>UP</td>\n",
       "      <td>NaN</td>\n",
       "      <td>152.59.191.187</td>\n",
       "      <td>IN</td>\n",
       "      <td>2024-10-20 03:50:17.578827+00:00</td>\n",
       "    </tr>\n",
       "    <tr>\n",
       "      <th>2</th>\n",
       "      <td>d016c006-f927-48bc-987d-40a2f3f4648b</td>\n",
       "      <td>258634</td>\n",
       "      <td>rupiyo</td>\n",
       "      <td>UP</td>\n",
       "      <td>NaN</td>\n",
       "      <td>152.58.129.31</td>\n",
       "      <td>IN</td>\n",
       "      <td>2024-10-21 15:52:12.762049+00:00</td>\n",
       "    </tr>\n",
       "    <tr>\n",
       "      <th>3</th>\n",
       "      <td>ed359404-3d8a-4f3e-9d4e-38e6ef575254</td>\n",
       "      <td>258019</td>\n",
       "      <td>rupiyo</td>\n",
       "      <td>UP</td>\n",
       "      <td>NaN</td>\n",
       "      <td>152.59.191.187</td>\n",
       "      <td>IN</td>\n",
       "      <td>2024-10-20 03:50:17.578827+00:00</td>\n",
       "    </tr>\n",
       "    <tr>\n",
       "      <th>4</th>\n",
       "      <td>ed359404-3d8a-4f3e-9d4e-38e6ef575254</td>\n",
       "      <td>258634</td>\n",
       "      <td>rupiyo</td>\n",
       "      <td>UP</td>\n",
       "      <td>NaN</td>\n",
       "      <td>152.58.129.31</td>\n",
       "      <td>IN</td>\n",
       "      <td>2024-10-21 15:52:12.762049+00:00</td>\n",
       "    </tr>\n",
       "  </tbody>\n",
       "</table>\n",
       "</div>"
      ],
      "text/plain": [
       "                                 adv_id  offer_id  app_id state comment  \\\n",
       "0  5ba99349-0e56-4a15-96d8-6708f21ae548    254610  rupiyo    UP     NaN   \n",
       "1  d016c006-f927-48bc-987d-40a2f3f4648b    258019  rupiyo    UP     NaN   \n",
       "2  d016c006-f927-48bc-987d-40a2f3f4648b    258634  rupiyo    UP     NaN   \n",
       "3  ed359404-3d8a-4f3e-9d4e-38e6ef575254    258019  rupiyo    UP     NaN   \n",
       "4  ed359404-3d8a-4f3e-9d4e-38e6ef575254    258634  rupiyo    UP     NaN   \n",
       "\n",
       "               ip country_code                        created_at  \n",
       "0  152.58.197.244           IN  2024-10-17 08:38:41.178855+00:00  \n",
       "1  152.59.191.187           IN  2024-10-20 03:50:17.578827+00:00  \n",
       "2   152.58.129.31           IN  2024-10-21 15:52:12.762049+00:00  \n",
       "3  152.59.191.187           IN  2024-10-20 03:50:17.578827+00:00  \n",
       "4   152.58.129.31           IN  2024-10-21 15:52:12.762049+00:00  "
      ]
     },
     "execution_count": 5,
     "metadata": {},
     "output_type": "execute_result"
    }
   ],
   "source": [
    "# Display first few rows\n",
    "df.head()"
   ]
  },
  {
   "cell_type": "code",
   "execution_count": 6,
   "id": "208c72f2",
   "metadata": {},
   "outputs": [
    {
     "name": "stdout",
     "output_type": "stream",
     "text": [
      "<class 'pandas.core.frame.DataFrame'>\n",
      "RangeIndex: 1048575 entries, 0 to 1048574\n",
      "Data columns (total 8 columns):\n",
      " #   Column        Non-Null Count    Dtype \n",
      "---  ------        --------------    ----- \n",
      " 0   adv_id        1048504 non-null  object\n",
      " 1   offer_id      1048575 non-null  int64 \n",
      " 2   app_id        1048575 non-null  object\n",
      " 3   state         1048575 non-null  object\n",
      " 4   comment       46254 non-null    object\n",
      " 5   ip            1048575 non-null  object\n",
      " 6   country_code  1048575 non-null  object\n",
      " 7   created_at    1048575 non-null  object\n",
      "dtypes: int64(1), object(7)\n",
      "memory usage: 64.0+ MB\n"
     ]
    }
   ],
   "source": [
    "# Check data types and basic info\n",
    "df.info()"
   ]
  },
  {
   "cell_type": "code",
   "execution_count": 7,
   "id": "c4e4eb70",
   "metadata": {},
   "outputs": [
    {
     "data": {
      "text/html": [
       "<div>\n",
       "<style scoped>\n",
       "    .dataframe tbody tr th:only-of-type {\n",
       "        vertical-align: middle;\n",
       "    }\n",
       "\n",
       "    .dataframe tbody tr th {\n",
       "        vertical-align: top;\n",
       "    }\n",
       "\n",
       "    .dataframe thead th {\n",
       "        text-align: right;\n",
       "    }\n",
       "</style>\n",
       "<table border=\"1\" class=\"dataframe\">\n",
       "  <thead>\n",
       "    <tr style=\"text-align: right;\">\n",
       "      <th></th>\n",
       "      <th>offer_id</th>\n",
       "    </tr>\n",
       "  </thead>\n",
       "  <tbody>\n",
       "    <tr>\n",
       "      <th>count</th>\n",
       "      <td>1.048575e+06</td>\n",
       "    </tr>\n",
       "    <tr>\n",
       "      <th>mean</th>\n",
       "      <td>2.218081e+05</td>\n",
       "    </tr>\n",
       "    <tr>\n",
       "      <th>std</th>\n",
       "      <td>7.769366e+04</td>\n",
       "    </tr>\n",
       "    <tr>\n",
       "      <th>min</th>\n",
       "      <td>5.272000e+03</td>\n",
       "    </tr>\n",
       "    <tr>\n",
       "      <th>25%</th>\n",
       "      <td>2.487020e+05</td>\n",
       "    </tr>\n",
       "    <tr>\n",
       "      <th>50%</th>\n",
       "      <td>2.572190e+05</td>\n",
       "    </tr>\n",
       "    <tr>\n",
       "      <th>75%</th>\n",
       "      <td>2.579070e+05</td>\n",
       "    </tr>\n",
       "    <tr>\n",
       "      <th>max</th>\n",
       "      <td>2.617550e+05</td>\n",
       "    </tr>\n",
       "  </tbody>\n",
       "</table>\n",
       "</div>"
      ],
      "text/plain": [
       "           offer_id\n",
       "count  1.048575e+06\n",
       "mean   2.218081e+05\n",
       "std    7.769366e+04\n",
       "min    5.272000e+03\n",
       "25%    2.487020e+05\n",
       "50%    2.572190e+05\n",
       "75%    2.579070e+05\n",
       "max    2.617550e+05"
      ]
     },
     "execution_count": 7,
     "metadata": {},
     "output_type": "execute_result"
    }
   ],
   "source": [
    "# Basic statistics\n",
    "df.describe()"
   ]
  },
  {
   "cell_type": "code",
   "execution_count": 8,
   "id": "0d1be2e1",
   "metadata": {},
   "outputs": [],
   "source": [
    "# Convert created_at to datetime\n",
    "df['created_at'] = pd.to_datetime(df['created_at'], format='mixed')"
   ]
  },
  {
   "cell_type": "code",
   "execution_count": 9,
   "id": "cfc9b90f",
   "metadata": {},
   "outputs": [
    {
     "name": "stdout",
     "output_type": "stream",
     "text": [
      "Vote distribution:\n",
      "state\n",
      "UP      1002321\n",
      "DOWN      46254\n",
      "Name: count, dtype: int64\n",
      "\n",
      "Upvote percentage: 95.59%\n",
      "Downvote percentage: 4.41%\n"
     ]
    }
   ],
   "source": [
    "# Check state distribution (UP vs DOWN)\n",
    "print(\"Vote distribution:\")\n",
    "vote_counts = df['state'].value_counts()\n",
    "print(vote_counts)\n",
    "print(f\"\\nUpvote percentage: {vote_counts.get('UP', 0) / len(df) * 100:.2f}%\")\n",
    "print(f\"Downvote percentage: {vote_counts.get('DOWN', 0) / len(df) * 100:.2f}%\")"
   ]
  },
  {
   "cell_type": "code",
   "execution_count": 10,
   "id": "174e027f",
   "metadata": {},
   "outputs": [
    {
     "name": "stdout",
     "output_type": "stream",
     "text": [
      "\n",
      "Overall Sentiment Analysis:\n",
      "Total votes: 1048575\n",
      "Upvotes: 1002321\n",
      "Downvotes: 46254\n",
      "Sentiment ratio (Up/Down): 21.67\n"
     ]
    }
   ],
   "source": [
    "# Overall sentiment ratio\n",
    "total_votes = len(df)\n",
    "upvotes = len(df[df['state'] == 'UP'])\n",
    "downvotes = len(df[df['state'] == 'DOWN'])\n",
    "sentiment_ratio = upvotes / downvotes if downvotes > 0 else float('inf')\n",
    "\n",
    "print(f\"\\nOverall Sentiment Analysis:\")\n",
    "print(f\"Total votes: {total_votes}\")\n",
    "print(f\"Upvotes: {upvotes}\")\n",
    "print(f\"Downvotes: {downvotes}\")\n",
    "print(f\"Sentiment ratio (Up/Down): {sentiment_ratio:.2f}\")"
   ]
  },
  {
   "cell_type": "code",
   "execution_count": 11,
   "id": "839e79b8",
   "metadata": {},
   "outputs": [],
   "source": [
    "# Country-wise analysis\n",
    "country_stats = df.groupby('country_code').agg({\n",
    "    'state': ['count', lambda x: sum(x == 'UP'), lambda x: sum(x == 'DOWN')],\n",
    "    'adv_id': 'nunique',\n",
    "    'offer_id': 'nunique'\n",
    "}).round(2)"
   ]
  },
  {
   "cell_type": "code",
   "execution_count": 12,
   "id": "e5b9149f",
   "metadata": {},
   "outputs": [],
   "source": [
    "# Flatten column names for country stats\n",
    "country_stats.columns = ['total_votes', 'upvotes', 'downvotes', 'unique_users', 'unique_offers']\n",
    "country_stats = country_stats.reset_index()"
   ]
  },
  {
   "cell_type": "code",
   "execution_count": 13,
   "id": "12b70476",
   "metadata": {},
   "outputs": [],
   "source": [
    "# Calculate country-wise metrics\n",
    "country_stats['upvote_rate'] = (country_stats['upvotes'] / country_stats['total_votes'] * 100).round(2)\n",
    "country_stats['downvote_rate'] = (country_stats['downvotes'] / country_stats['total_votes'] * 100).round(2)\n",
    "country_stats['sentiment_ratio'] = (country_stats['upvotes'] / country_stats['downvotes']).round(2)"
   ]
  },
  {
   "cell_type": "code",
   "execution_count": 14,
   "id": "a2d50fce",
   "metadata": {},
   "outputs": [
    {
     "name": "stdout",
     "output_type": "stream",
     "text": [
      "Top 10 countries by vote volume:\n",
      "   country_code  total_votes  upvote_rate  unique_users  unique_offers\n",
      "43           IN      1028879        95.59        166783            542\n",
      "7            BD         5896        98.91          5578             89\n",
      "0            AE         5451        99.56          5257            134\n",
      "78           PH         1486        91.12           813            187\n",
      "73           NP          927        82.52           472             85\n",
      "41           ID          898        87.86           561            151\n",
      "79           PK          704        95.45           514             88\n",
      "58           MA          270        93.70           127             59\n",
      "25           DZ          263        93.92           139             51\n",
      "67           MX          218        97.25           133             58\n"
     ]
    }
   ],
   "source": [
    "# Display top countries by vote volume\n",
    "print(\"Top 10 countries by vote volume:\")\n",
    "top_countries = country_stats.nlargest(10, 'total_votes')\n",
    "print(top_countries[['country_code', 'total_votes', 'upvote_rate', 'unique_users', 'unique_offers']])"
   ]
  },
  {
   "cell_type": "code",
   "execution_count": 15,
   "id": "ea8a56be",
   "metadata": {},
   "outputs": [],
   "source": [
    "# Offer-wise sentiment analysis\n",
    "offer_stats = df.groupby('offer_id').agg({\n",
    "    'state': ['count', lambda x: sum(x == 'UP'), lambda x: sum(x == 'DOWN')],\n",
    "    'adv_id': 'nunique',\n",
    "    'app_id': 'nunique',\n",
    "    'country_code': 'nunique'\n",
    "}).round(2)"
   ]
  },
  {
   "cell_type": "code",
   "execution_count": 16,
   "id": "8470d5b8",
   "metadata": {},
   "outputs": [],
   "source": [
    "# Flatten offer stats columns\n",
    "offer_stats.columns = ['total_votes', 'upvotes', 'downvotes', 'unique_users', 'unique_apps', 'countries']\n",
    "offer_stats = offer_stats.reset_index()"
   ]
  },
  {
   "cell_type": "code",
   "execution_count": 17,
   "id": "9c3f4eb6",
   "metadata": {},
   "outputs": [],
   "source": [
    "# Calculate offer-wise metrics\n",
    "offer_stats['upvote_rate'] = (offer_stats['upvotes'] / offer_stats['total_votes'] * 100).round(2)\n",
    "offer_stats['engagement_score'] = offer_stats['total_votes'] / offer_stats['unique_users']\n",
    "offer_stats['sentiment_ratio'] = (offer_stats['upvotes'] / offer_stats['downvotes']).round(2)"
   ]
  },
  {
   "cell_type": "code",
   "execution_count": 18,
   "id": "93a7eb7e",
   "metadata": {},
   "outputs": [
    {
     "name": "stdout",
     "output_type": "stream",
     "text": [
      "Top 10 best performing offers (by upvote rate):\n",
      "    offer_id  total_votes  upvote_rate  unique_users\n",
      "0       5272            1        100.0             1\n",
      "1       5273            9        100.0             9\n",
      "2       6086         5157        100.0          5157\n",
      "5       8561            1        100.0             1\n",
      "7      10353            1        100.0             1\n",
      "9      11741            1        100.0             1\n",
      "14     13031            2        100.0             2\n",
      "16     13566            1        100.0             1\n",
      "17     13599            1        100.0             1\n",
      "19     13758            1        100.0             1\n",
      "\n",
      "Top 10 worst performing offers (by upvote rate):\n",
      "     offer_id  total_votes  upvote_rate  unique_users\n",
      "4        7908            1          0.0             1\n",
      "13      12912            1          0.0             1\n",
      "108     28490            1          0.0             1\n",
      "156     49946            1          0.0             1\n",
      "157     49948            1          0.0             1\n",
      "223    103665            1          0.0             1\n",
      "294    162737            1          0.0             1\n",
      "324    180794            1          0.0             1\n",
      "345    198355            1          0.0             1\n",
      "380    221340            1          0.0             1\n"
     ]
    }
   ],
   "source": [
    "# Identify best and worst performing offers\n",
    "best_offers = offer_stats.nlargest(10, 'upvote_rate')\n",
    "worst_offers = offer_stats.nsmallest(10, 'upvote_rate')\n",
    "\n",
    "print(\"Top 10 best performing offers (by upvote rate):\")\n",
    "print(best_offers[['offer_id', 'total_votes', 'upvote_rate', 'unique_users']])\n",
    "\n",
    "print(\"\\nTop 10 worst performing offers (by upvote rate):\")\n",
    "print(worst_offers[['offer_id', 'total_votes', 'upvote_rate', 'unique_users']])"
   ]
  },
  {
   "cell_type": "code",
   "execution_count": 19,
   "id": "3059cef1",
   "metadata": {},
   "outputs": [],
   "source": [
    "# App-wise analysis\n",
    "app_stats = df.groupby('app_id').agg({\n",
    "    'state': ['count', lambda x: sum(x == 'UP'), lambda x: sum(x == 'DOWN')],\n",
    "    'adv_id': 'nunique',\n",
    "    'offer_id': 'nunique'\n",
    "}).round(2)"
   ]
  },
  {
   "cell_type": "code",
   "execution_count": 20,
   "id": "4ddd4f11",
   "metadata": {},
   "outputs": [],
   "source": [
    "# Flatten app stats columns\n",
    "app_stats.columns = ['total_votes', 'upvotes', 'downvotes', 'unique_users', 'unique_offers']\n",
    "app_stats = app_stats.reset_index()\n",
    "app_stats['upvote_rate'] = (app_stats['upvotes'] / app_stats['total_votes'] * 100).round(2)"
   ]
  },
  {
   "cell_type": "code",
   "execution_count": 21,
   "id": "828b0e8e",
   "metadata": {},
   "outputs": [
    {
     "name": "stdout",
     "output_type": "stream",
     "text": [
      "App performance analysis:\n",
      "             app_id  total_votes  upvote_rate  unique_offers\n",
      "19   offerwall_1072       340186        98.48             65\n",
      "144   offerwall_916       241800       100.00             25\n",
      "55     offerwall_31        55937        90.19            404\n",
      "110    offerwall_59        53577        99.46             31\n",
      "46    offerwall_260        39783       100.00              7\n",
      "..              ...          ...          ...            ...\n",
      "98    offerwall_542            1       100.00              1\n",
      "120   offerwall_664            1       100.00              1\n",
      "127   offerwall_740            1       100.00              1\n",
      "124   offerwall_708            1         0.00              1\n",
      "146   offerwall_939            1       100.00              1\n",
      "\n",
      "[155 rows x 4 columns]\n"
     ]
    }
   ],
   "source": [
    "# Display app performance\n",
    "print(\"App performance analysis:\")\n",
    "print(app_stats.sort_values('total_votes', ascending=False)[['app_id', 'total_votes', 'upvote_rate', 'unique_offers']])"
   ]
  },
  {
   "cell_type": "code",
   "execution_count": 22,
   "id": "65fccb2c",
   "metadata": {},
   "outputs": [],
   "source": [
    "# User behavior analysis\n",
    "user_stats = df.groupby('adv_id').agg({\n",
    "    'state': ['count', lambda x: sum(x == 'UP'), lambda x: sum(x == 'DOWN')],\n",
    "    'offer_id': 'nunique',\n",
    "    'app_id': 'nunique',\n",
    "    'country_code': 'first'\n",
    "}).round(2)"
   ]
  },
  {
   "cell_type": "code",
   "execution_count": 23,
   "id": "66319a4a",
   "metadata": {},
   "outputs": [],
   "source": [
    "# Flatten user stats columns\n",
    "user_stats.columns = ['total_votes', 'upvotes', 'downvotes', 'unique_offers', 'unique_apps', 'country']\n",
    "user_stats = user_stats.reset_index()"
   ]
  },
  {
   "cell_type": "code",
   "execution_count": 24,
   "id": "2926ecdf",
   "metadata": {},
   "outputs": [],
   "source": [
    "# Calculate user engagement metrics\n",
    "user_stats['upvote_rate'] = (user_stats['upvotes'] / user_stats['total_votes'] * 100).round(2)\n",
    "user_stats['user_type'] = user_stats['upvote_rate'].apply(\n",
    "    lambda x: 'Positive' if x >= 70 else 'Negative' if x <= 30 else 'Neutral'\n",
    ")"
   ]
  },
  {
   "cell_type": "code",
   "execution_count": 25,
   "id": "d9ed576f",
   "metadata": {},
   "outputs": [
    {
     "name": "stdout",
     "output_type": "stream",
     "text": [
      "User sentiment distribution:\n",
      "user_type\n",
      "Positive    154540\n",
      "Neutral       9693\n",
      "Negative      7846\n",
      "Name: count, dtype: int64\n",
      "\n",
      "Percentage breakdown:\n",
      "Positive: 89.81%\n",
      "Neutral: 5.63%\n",
      "Negative: 4.56%\n"
     ]
    }
   ],
   "source": [
    "# User type distribution\n",
    "print(\"User sentiment distribution:\")\n",
    "user_type_dist = user_stats['user_type'].value_counts()\n",
    "print(user_type_dist)\n",
    "print(f\"\\nPercentage breakdown:\")\n",
    "for user_type, count in user_type_dist.items():\n",
    "    print(f\"{user_type}: {count/len(user_stats)*100:.2f}%\")"
   ]
  },
  {
   "cell_type": "code",
   "execution_count": 26,
   "id": "ded4985b",
   "metadata": {},
   "outputs": [],
   "source": [
    "# Time-based analysis\n",
    "df['date'] = df['created_at'].dt.date\n",
    "df['hour'] = df['created_at'].dt.hour\n",
    "df['day_of_week'] = df['created_at'].dt.dayofweek\n",
    "df['month'] = df['created_at'].dt.month"
   ]
  },
  {
   "cell_type": "code",
   "execution_count": 27,
   "id": "550d6c1f",
   "metadata": {},
   "outputs": [],
   "source": [
    "# Daily sentiment trends\n",
    "daily_sentiment = df.groupby('date').agg({\n",
    "    'state': ['count', lambda x: sum(x == 'UP'), lambda x: sum(x == 'DOWN')]\n",
    "}).round(2)\n",
    "\n",
    "daily_sentiment.columns = ['total_votes', 'upvotes', 'downvotes']\n",
    "daily_sentiment = daily_sentiment.reset_index()\n",
    "daily_sentiment['upvote_rate'] = (daily_sentiment['upvotes'] / daily_sentiment['total_votes'] * 100).round(2)"
   ]
  },
  {
   "cell_type": "code",
   "execution_count": 28,
   "id": "0b7e87ee",
   "metadata": {},
   "outputs": [
    {
     "name": "stdout",
     "output_type": "stream",
     "text": [
      "Weekly voting patterns:\n",
      "  day_name  total_votes  upvote_rate\n",
      "0      Mon        69613        95.32\n",
      "1      Tue        82756        95.39\n",
      "2      Wed       306418        96.57\n",
      "3      Thu       253129        95.14\n",
      "4      Fri       101624        92.80\n",
      "5      Sat       124326        96.24\n",
      "6      Sun       110709        96.06\n"
     ]
    }
   ],
   "source": [
    "# Weekly patterns\n",
    "weekly_pattern = df.groupby('day_of_week').agg({\n",
    "    'state': ['count', lambda x: sum(x == 'UP') / len(x) * 100]\n",
    "}).round(2)\n",
    "\n",
    "weekly_pattern.columns = ['total_votes', 'upvote_rate']\n",
    "weekly_pattern = weekly_pattern.reset_index()\n",
    "weekly_pattern['day_name'] = ['Mon', 'Tue', 'Wed', 'Thu', 'Fri', 'Sat', 'Sun']\n",
    "\n",
    "print(\"Weekly voting patterns:\")\n",
    "print(weekly_pattern[['day_name', 'total_votes', 'upvote_rate']])"
   ]
  },
  {
   "cell_type": "code",
   "execution_count": 29,
   "id": "c381ea25",
   "metadata": {},
   "outputs": [
    {
     "name": "stdout",
     "output_type": "stream",
     "text": [
      "\n",
      "Peak voting hours:\n",
      "    hour  total_votes  upvote_rate\n",
      "3      3       112084        97.52\n",
      "8      8        94259        97.61\n",
      "11    11        71333        97.69\n",
      "13    13        65279        93.92\n",
      "6      6        63675        95.17\n"
     ]
    }
   ],
   "source": [
    "# Hourly patterns\n",
    "hourly_pattern = df.groupby('hour').agg({\n",
    "    'state': ['count', lambda x: sum(x == 'UP') / len(x) * 100]\n",
    "}).round(2)\n",
    "\n",
    "hourly_pattern.columns = ['total_votes', 'upvote_rate']\n",
    "hourly_pattern = hourly_pattern.reset_index()\n",
    "\n",
    "print(\"\\nPeak voting hours:\")\n",
    "peak_hours = hourly_pattern.nlargest(5, 'total_votes')\n",
    "print(peak_hours)"
   ]
  },
  {
   "cell_type": "code",
   "execution_count": 30,
   "id": "acd806be",
   "metadata": {},
   "outputs": [
    {
     "name": "stdout",
     "output_type": "stream",
     "text": [
      "Comment length by sentiment:\n",
      "        mean  median    std\n",
      "state                      \n",
      "DOWN   74.24    47.0  58.68\n",
      "UP      3.00     3.0   0.00\n"
     ]
    }
   ],
   "source": [
    "# Comment length analysis (if comments exist)\n",
    "if 'comment' in df.columns:\n",
    "    df['comment_length'] = df['comment'].astype(str).str.len()\n",
    "    \n",
    "    comment_sentiment = df.groupby('state')['comment_length'].agg(['mean', 'median', 'std']).round(2)\n",
    "    print(\"Comment length by sentiment:\")\n",
    "    print(comment_sentiment)"
   ]
  },
  {
   "cell_type": "code",
   "execution_count": 31,
   "id": "b850255b",
   "metadata": {},
   "outputs": [
    {
     "name": "stdout",
     "output_type": "stream",
     "text": [
      "\n",
      "Geographic engagement levels:\n",
      "engagement_level\n",
      "Medium    57\n",
      "Low       31\n",
      "High      29\n",
      "Name: count, dtype: int64\n"
     ]
    }
   ],
   "source": [
    "# Geographic insights\n",
    "geo_insights = country_stats.copy()\n",
    "geo_insights['engagement_level'] = geo_insights['total_votes'].apply(\n",
    "    lambda x: 'High' if x > geo_insights['total_votes'].quantile(0.75) else \n",
    "             'Medium' if x > geo_insights['total_votes'].quantile(0.25) else 'Low'\n",
    ")\n",
    "\n",
    "print(\"\\nGeographic engagement levels:\")\n",
    "print(geo_insights['engagement_level'].value_counts())"
   ]
  },
  {
   "cell_type": "code",
   "execution_count": 32,
   "id": "8b2112a6",
   "metadata": {},
   "outputs": [],
   "source": [
    "# Offer quality scoring\n",
    "offer_quality = offer_stats.copy()\n",
    "offer_quality['quality_score'] = (\n",
    "    (offer_quality['upvote_rate'] / 100) * 0.6 +\n",
    "    (offer_quality['total_votes'] / offer_quality['total_votes'].max()) * 0.3 +\n",
    "    (offer_quality['unique_users'] / offer_quality['unique_users'].max()) * 0.1\n",
    ") * 100\n",
    "\n",
    "offer_quality['quality_grade'] = offer_quality['quality_score'].apply(\n",
    "    lambda x: 'A' if x >= 80 else 'B' if x >= 60 else 'C' if x >= 40 else 'D'\n",
    ")"
   ]
  },
  {
   "cell_type": "code",
   "execution_count": 33,
   "id": "c2c2b213",
   "metadata": {},
   "outputs": [
    {
     "name": "stdout",
     "output_type": "stream",
     "text": [
      "Offer quality distribution:\n",
      "quality_grade\n",
      "B    581\n",
      "C    393\n",
      "D     73\n",
      "A      3\n",
      "Name: count, dtype: int64\n"
     ]
    }
   ],
   "source": [
    "# Quality grade distribution\n",
    "print(\"Offer quality distribution:\")\n",
    "quality_dist = offer_quality['quality_grade'].value_counts()\n",
    "print(quality_dist)"
   ]
  },
  {
   "cell_type": "code",
   "execution_count": 34,
   "id": "952a4ae7",
   "metadata": {},
   "outputs": [],
   "source": [
    "# Cross-platform analysis\n",
    "cross_platform = df.groupby(['app_id', 'country_code']).agg({\n",
    "    'state': ['count', lambda x: sum(x == 'UP') / len(x) * 100],\n",
    "    'adv_id': 'nunique'\n",
    "}).round(2)\n",
    "\n",
    "cross_platform.columns = ['total_votes', 'upvote_rate', 'unique_users']\n",
    "cross_platform = cross_platform.reset_index()"
   ]
  },
  {
   "cell_type": "code",
   "execution_count": 35,
   "id": "82280782",
   "metadata": {},
   "outputs": [
    {
     "name": "stdout",
     "output_type": "stream",
     "text": [
      "Regional voting preferences:\n",
      "              upvote_rate  total_votes  unique_users\n",
      "country_code                                        \n",
      "AF                  100.0            5             4\n",
      "AM                  100.0            1             1\n",
      "BG                  100.0            4             3\n",
      "BA                  100.0            1             1\n",
      "AZ                  100.0            7             6\n",
      "CR                  100.0           21            13\n",
      "CM                  100.0            1             1\n",
      "CY                  100.0            1             1\n",
      "BH                  100.0            1             1\n",
      "BO                  100.0          180            63\n"
     ]
    }
   ],
   "source": [
    "# Identify regional preferences\n",
    "regional_prefs = cross_platform.groupby('country_code').agg({\n",
    "    'upvote_rate': 'mean',\n",
    "    'total_votes': 'sum',\n",
    "    'unique_users': 'sum'\n",
    "}).round(2)\n",
    "\n",
    "print(\"Regional voting preferences:\")\n",
    "print(regional_prefs.sort_values('upvote_rate', ascending=False).head(10))"
   ]
  },
  {
   "cell_type": "code",
   "execution_count": 36,
   "id": "bf33ab71",
   "metadata": {},
   "outputs": [
    {
     "name": "stdout",
     "output_type": "stream",
     "text": [
      "\n",
      "Engagement depth vs sentiment:\n",
      "                   mean   count\n",
      "engagement_depth               \n",
      "Deep              94.49   34377\n",
      "Medium            90.26   16940\n",
      "Shallow           91.86  120762\n"
     ]
    }
   ],
   "source": [
    "# User engagement depth analysis\n",
    "engagement_depth = user_stats.copy()\n",
    "engagement_depth['engagement_depth'] = engagement_depth['unique_offers'].apply(\n",
    "    lambda x: 'Deep' if x >= 5 else 'Medium' if x >= 3 else 'Shallow'\n",
    ")\n",
    "\n",
    "engagement_sentiment = engagement_depth.groupby('engagement_depth')['upvote_rate'].agg(['mean', 'count']).round(2)\n",
    "print(\"\\nEngagement depth vs sentiment:\")\n",
    "print(engagement_sentiment)"
   ]
  },
  {
   "cell_type": "code",
   "execution_count": 37,
   "id": "67a822f5",
   "metadata": {},
   "outputs": [
    {
     "name": "stdout",
     "output_type": "stream",
     "text": [
      "\n",
      "Voting velocity by sentiment (hours between votes):\n",
      "       mean  median\n",
      "state              \n",
      "DOWN   0.93    0.14\n",
      "UP     2.00    0.73\n"
     ]
    }
   ],
   "source": [
    "# Voting velocity analysis\n",
    "df['voting_velocity'] = df.groupby('adv_id')['created_at'].diff().dt.total_seconds() / 3600\n",
    "velocity_sentiment = df.groupby('state')['voting_velocity'].agg(['mean', 'median']).round(2)\n",
    "\n",
    "print(\"\\nVoting velocity by sentiment (hours between votes):\")\n",
    "print(velocity_sentiment)"
   ]
  },
  {
   "cell_type": "code",
   "execution_count": 38,
   "id": "43f419f2",
   "metadata": {},
   "outputs": [
    {
     "name": "stdout",
     "output_type": "stream",
     "text": [
      "\n",
      "Monthly voting trends:\n",
      "            total_votes  upvote_rate\n",
      "month_name                          \n",
      "October         1048575        95.59\n"
     ]
    }
   ],
   "source": [
    "# Seasonal trends\n",
    "df['month_name'] = df['created_at'].dt.strftime('%B')\n",
    "monthly_trends = df.groupby('month_name').agg({\n",
    "    'state': ['count', lambda x: sum(x == 'UP') / len(x) * 100]\n",
    "}).round(2)\n",
    "\n",
    "monthly_trends.columns = ['total_votes', 'upvote_rate']\n",
    "print(\"\\nMonthly voting trends:\")\n",
    "print(monthly_trends)"
   ]
  },
  {
   "cell_type": "code",
   "execution_count": 39,
   "id": "9b84fab2",
   "metadata": {},
   "outputs": [
    {
     "name": "stdout",
     "output_type": "stream",
     "text": [
      "\n",
      "------------------------------------------------------------\n",
      "Main takeaways\n",
      "------------------------------------------------------------\n",
      "Overall Sentiment: 95.6% positive\n",
      "Most Engaged Country: IN\n",
      "Best Performing Offer: 5272.0\n",
      "User Satisfaction: 89.8% positive users\n",
      "Peak Activity Day: Wed\n",
      "Quality Offers (A-grade): 3 offers\n",
      "Average Engagement: 5.9 offers per user\n"
     ]
    }
   ],
   "source": [
    "# Key insights summary\n",
    "print(\"\\n\" + \"-\"*60)\n",
    "print(\"Main takeaways\")\n",
    "print(\"-\"*60)\n",
    "\n",
    "insights = {\n",
    "    'Overall Sentiment': f\"{upvotes/(upvotes+downvotes)*100:.1f}% positive\",\n",
    "    'Most Engaged Country': top_countries.iloc[0]['country_code'],\n",
    "    'Best Performing Offer': best_offers.iloc[0]['offer_id'],\n",
    "    'User Satisfaction': f\"{len(user_stats[user_stats['user_type']=='Positive'])/len(user_stats)*100:.1f}% positive users\",\n",
    "    'Peak Activity Day': weekly_pattern.loc[weekly_pattern['total_votes'].idxmax(), 'day_name'],\n",
    "    'Quality Offers (A-grade)': f\"{quality_dist.get('A', 0)} offers\",\n",
    "    'Average Engagement': f\"{user_stats['unique_offers'].mean():.1f} offers per user\"\n",
    "}\n",
    "\n",
    "for key, value in insights.items():\n",
    "    print(f\"{key}: {value}\")"
   ]
  },
  {
   "cell_type": "code",
   "execution_count": 40,
   "id": "2bfa9441",
   "metadata": {},
   "outputs": [
    {
     "name": "stdout",
     "output_type": "stream",
     "text": [
      "\n",
      "------------------------------------------------------------\n",
      "RECOMMENDATIONS\n",
      "------------------------------------------------------------\n",
      "1. Focus on replicating success factors from A-grade offers\n",
      "2. Optimize content for IN market (highest engagement)\n",
      "3. Investigate and improve D-grade offers to reduce negative sentiment\n",
      "4. Leverage peak activity on Weds for important launches\n",
      "5. Develop retention strategies for shallow engagement users\n",
      "6. Create region-specific content based on voting preferences\n"
     ]
    }
   ],
   "source": [
    "# Recommendations based on insights\n",
    "print(\"\\n\" + \"-\"*60)\n",
    "print(\"RECOMMENDATIONS\")\n",
    "print(\"-\"*60)\n",
    "\n",
    "recommendations = [\n",
    "    \"Focus on replicating success factors from A-grade offers\",\n",
    "    f\"Optimize content for {top_countries.iloc[0]['country_code']} market (highest engagement)\",\n",
    "    \"Investigate and improve D-grade offers to reduce negative sentiment\",\n",
    "    f\"Leverage peak activity on {weekly_pattern.loc[weekly_pattern['total_votes'].idxmax(), 'day_name']}s for important launches\",\n",
    "    \"Develop retention strategies for shallow engagement users\",\n",
    "    \"Create region-specific content based on voting preferences\"\n",
    "]\n",
    "\n",
    "for i, rec in enumerate(recommendations, 1):\n",
    "    print(f\"{i}. {rec}\")"
   ]
  },
  {
   "cell_type": "code",
   "execution_count": 41,
   "id": "fb9168e9",
   "metadata": {},
   "outputs": [
    {
     "name": "stdout",
     "output_type": "stream",
     "text": [
      "\n",
      "------------------------------------------------------------\n",
      "Key Performance Indicators to Monitor\n",
      "------------------------------------------------------------\n",
      "Total Votes: 1,048,575\n",
      "Unique Users: 172,079\n",
      "Unique Offers: 1,050\n",
      "Countries: 117\n",
      "Apps: 155\n",
      "Avg Daily Votes: 131072\n",
      "Sentiment Ratio: 21.67\n",
      "User Satisfaction: 95.6%\n"
     ]
    }
   ],
   "source": [
    "\n",
    "\n",
    "# Final metrics dashboard\n",
    "dashboard_metrics = {\n",
    "    'Total Votes': f\"{total_votes:,}\",\n",
    "    'Unique Users': f\"{df['adv_id'].nunique():,}\",\n",
    "    'Unique Offers': f\"{df['offer_id'].nunique():,}\",\n",
    "    'Countries': f\"{df['country_code'].nunique()}\",\n",
    "    'Apps': f\"{df['app_id'].nunique()}\",\n",
    "    'Avg Daily Votes': f\"{daily_sentiment['total_votes'].mean():.0f}\",\n",
    "    'Sentiment Ratio': f\"{sentiment_ratio:.2f}\",\n",
    "    'User Satisfaction': f\"{(upvotes/total_votes*100):.1f}%\"\n",
    "}\n",
    "\n",
    "print(\"\\n\" + \"-\"*60)\n",
    "print(\"Key Performance Indicators to Monitor\")\n",
    "print(\"-\"*60)\n",
    "\n",
    "for metric, value in dashboard_metrics.items():\n",
    "    print(f\"{metric}: {value}\")"
   ]
  }
 ],
 "metadata": {
  "kernelspec": {
   "display_name": "Python 3",
   "language": "python",
   "name": "python3"
  },
  "language_info": {
   "codemirror_mode": {
    "name": "ipython",
    "version": 3
   },
   "file_extension": ".py",
   "mimetype": "text/x-python",
   "name": "python",
   "nbconvert_exporter": "python",
   "pygments_lexer": "ipython3",
   "version": "3.12.10"
  }
 },
 "nbformat": 4,
 "nbformat_minor": 5
}

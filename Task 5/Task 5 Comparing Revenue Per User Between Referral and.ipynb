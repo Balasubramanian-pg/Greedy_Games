{
 "cells": [
  {
   "cell_type": "markdown",
   "id": "e9deec17",
   "metadata": {},
   "source": [
    "### Import the needed libraries to set up"
   ]
  },
  {
   "cell_type": "code",
   "execution_count": 21,
   "id": "46287615",
   "metadata": {},
   "outputs": [],
   "source": [
    "import pandas as pd"
   ]
  },
  {
   "cell_type": "code",
   "execution_count": 22,
   "id": "29f8354e",
   "metadata": {},
   "outputs": [],
   "source": [
    "# Load datasets\n",
    "daily_login = pd.read_csv(r\"C:\\Users\\ASUS\\OneDrive\\Desktop\\Greedy Game\\Task 5\\6_1_bharatcash_overall_daily_login.csv\")\n",
    "referral_users = pd.read_csv(r\"C:\\Users\\ASUS\\OneDrive\\Desktop\\Greedy Game\\Task 5\\6_2_from_referral_bharatcash.csv\")\n",
    "rev_referral = pd.read_csv(r\"C:\\Users\\ASUS\\OneDrive\\Desktop\\Greedy Game\\Task 5\\6_3_rev_from_referral_bharatcash.csv\")\n",
    "rev_overall = pd.read_csv(r\"C:\\Users\\ASUS\\OneDrive\\Desktop\\Greedy Game\\Task 5\\6_4_rev_overall_bharatcash.csv\")"
   ]
  },
  {
   "cell_type": "markdown",
   "id": "b71d19da",
   "metadata": {},
   "source": [
    "### Exploratory Data Analysis"
   ]
  },
  {
   "cell_type": "code",
   "execution_count": 23,
   "id": "92cb754d",
   "metadata": {},
   "outputs": [
    {
     "name": "stdout",
     "output_type": "stream",
     "text": [
      "--------------------------------------------------\n",
      "Overview of dataset\n",
      "--------------------------------------------------\n",
      "Daily Login Records: 286,240 rows\n",
      "Referral Users: 41,259 rows\n",
      "Referral Revenue Records: 41,469 rows\n",
      "Overall Revenue Records: 220,612 rows\n",
      "\n"
     ]
    }
   ],
   "source": [
    "# Basic Overview of the dataset\n",
    "print(\"-\"*50)\n",
    "print(\"Overview of dataset\")\n",
    "print(\"-\"*50)\n",
    "print(f\"Daily Login Records: {daily_login.shape[0]:,} rows\")\n",
    "print(f\"Referral Users: {referral_users.shape[0]:,} rows\")\n",
    "print(f\"Referral Revenue Records: {rev_referral.shape[0]:,} rows\")\n",
    "print(f\"Overall Revenue Records: {rev_overall.shape[0]:,} rows\\n\")"
   ]
  },
  {
   "cell_type": "markdown",
   "id": "0c8c7502",
   "metadata": {},
   "source": [
    "### Data Cleaning & Enrichment"
   ]
  },
  {
   "cell_type": "code",
   "execution_count": 24,
   "id": "415c0f4e",
   "metadata": {},
   "outputs": [
    {
     "name": "stdout",
     "output_type": "stream",
     "text": [
      "DATA CLEANING SUMMARY\n",
      "--------------------------------------------------\n",
      "Daily Login: Removed 15318 duplicates\n",
      "Referral Users: Removed 0 duplicates\n",
      "Referral Revenue: Removed 6324 duplicates\n",
      "Overall Revenue: Removed 50208 duplicates\n"
     ]
    }
   ],
   "source": [
    "# Clean data\n",
    "dfs = [daily_login, referral_users, rev_referral, rev_overall]\n",
    "df_names = [\"Daily Login\", \"Referral Users\", \"Referral Revenue\", \"Overall Revenue\"]\n",
    "\n",
    "print(\"DATA CLEANING SUMMARY\")\n",
    "print(\"-\"*50)\n",
    "for name, df in zip(df_names, dfs):\n",
    "    initial = len(df)\n",
    "    df.drop_duplicates(inplace=True)\n",
    "    df.columns = df.columns.str.strip()\n",
    "    print(f\"{name}: Removed {initial - len(df)} duplicates\")"
   ]
  },
  {
   "cell_type": "markdown",
   "id": "6e5ec310",
   "metadata": {},
   "source": [
    "Since our objective is segment wise classification and comparison, our first action would be to classify the users into two brackets of referral users and non-referral users"
   ]
  },
  {
   "cell_type": "code",
   "execution_count": 25,
   "id": "ea9c6c24",
   "metadata": {},
   "outputs": [
    {
     "name": "stdout",
     "output_type": "stream",
     "text": [
      "\n",
      "USER CLASSIFICATION\n",
      "--------------------------------------------------\n",
      "Total users with revenue: 36,780\n",
      "Referral users: 40,836 (111.0%)\n",
      "Non-referral users: 25,879 (70.4%)\n"
     ]
    }
   ],
   "source": [
    "# User classification\n",
    "referral_ids = set(referral_users['referre_adv_id'].unique())\n",
    "all_ids = set(rev_overall['adv_id'].unique())\n",
    "non_referral_ids = all_ids - referral_ids\n",
    "\n",
    "print(\"\\nUSER CLASSIFICATION\")\n",
    "print(\"-\"*50)\n",
    "print(f\"Total users with revenue: {len(all_ids):,}\")\n",
    "print(f\"Referral users: {len(referral_ids):,} ({len(referral_ids)/len(all_ids):.1%})\")\n",
    "print(f\"Non-referral users: {len(non_referral_ids):,} ({len(non_referral_ids)/len(all_ids):.1%})\")"
   ]
  },
  {
   "cell_type": "markdown",
   "id": "f1309ad7",
   "metadata": {},
   "source": [
    "To proceed, I am marking each advertiser as referral (1) or non-referral (0).\n",
    "Then I am merging this referral info with their revenue data using adv_id."
   ]
  },
  {
   "cell_type": "code",
   "execution_count": 26,
   "id": "141a6011",
   "metadata": {},
   "outputs": [],
   "source": [
    "# Merge revenue with classification\n",
    "revenue_class = rev_overall.merge(\n",
    "    pd.DataFrame({\n",
    "        'adv_id': list(all_ids),\n",
    "        'is_referral': [1 if x in referral_ids else 0 for x in all_ids]\n",
    "    }), \n",
    "    on='adv_id'\n",
    ")"
   ]
  },
  {
   "cell_type": "markdown",
   "id": "b707cd07",
   "metadata": {},
   "source": [
    "To further simplify our analysis, I am splitting users into referral and non-referral groups, then summarizing their revenue using statistics like average and median.\n",
    "It also makes sense to count how many users in each group made zero revenue"
   ]
  },
  {
   "cell_type": "code",
   "execution_count": 27,
   "id": "664b52a0",
   "metadata": {},
   "outputs": [
    {
     "name": "stdout",
     "output_type": "stream",
     "text": [
      "The Revenue Summary of Referral Users\n",
      "--------------------------------------------------\n",
      "count    39,389.00\n",
      "mean          0.20\n",
      "std           1.19\n",
      "min           0.00\n",
      "25%           0.03\n",
      "50%           0.06\n",
      "75%           0.13\n",
      "max         200.73\n",
      "Name: revenue_in_usd, dtype: object\n",
      "\n",
      "Zero-revenue users: 120\n",
      "The Revenue Summary of Non-Referral Users\n",
      "--------------------------------------------------\n",
      "count    131,015.00\n",
      "mean           0.19\n",
      "std            0.69\n",
      "min            0.00\n",
      "25%            0.02\n",
      "50%            0.07\n",
      "75%            0.13\n",
      "max           39.19\n",
      "Name: revenue_in_usd, dtype: object\n",
      "\n",
      "Zero-revenue users: 473\n"
     ]
    }
   ],
   "source": [
    "# Revenue analysis\n",
    "referral_rev = revenue_class[revenue_class['is_referral'] == 1]\n",
    "non_referral_rev = revenue_class[revenue_class['is_referral'] == 0]\n",
    "\n",
    "print(\"The Revenue Summary of Referral Users\")\n",
    "print(\"-\"*50)\n",
    "print(referral_rev['revenue_in_usd'].describe().apply(lambda x: f\"{x:,.2f}\"))\n",
    "print(f\"\\nZero-revenue users: {(referral_rev['revenue_in_usd'] == 0).sum():,}\")\n",
    "\n",
    "print(\"The Revenue Summary of Non-Referral Users\")\n",
    "print(\"-\"*50)\n",
    "print(non_referral_rev['revenue_in_usd'].describe().apply(lambda x: f\"{x:,.2f}\"))\n",
    "print(f\"\\nZero-revenue users: {(non_referral_rev['revenue_in_usd'] == 0).sum():,}\")"
   ]
  },
  {
   "cell_type": "markdown",
   "id": "f9991ea0",
   "metadata": {},
   "source": [
    "We’re first defining a function to classify each user’s revenue into four segments - Zero, Low, Medium, and High.\n",
    "Then, for referral and non-referral users separately, we calculate and display what percentage of users fall into each revenue segment."
   ]
  },
  {
   "cell_type": "code",
   "execution_count": 28,
   "id": "6d49bd84",
   "metadata": {},
   "outputs": [
    {
     "name": "stdout",
     "output_type": "stream",
     "text": [
      "\n",
      "Revenue Segment Distribution (Sorted)\n",
      "--------------------------------------------------\n",
      "Referral Users:\n",
      "Zero              0.3%\n",
      "Low (<$1)        96.1%\n",
      "Medium ($1-5)     3.3%\n",
      "High (>$5)        0.2%\n",
      "\n",
      "Non-Referral Users:\n",
      "Zero              0.4%\n",
      "Low (<$1)        97.1%\n",
      "Medium ($1-5)     2.1%\n",
      "High (>$5)        0.5%\n"
     ]
    }
   ],
   "source": [
    "# First, define the revenue_class function that categorizes revenue\n",
    "def revenue_class(value):\n",
    "    if value == 0:\n",
    "        return 'Zero'\n",
    "    elif 0 < value < 1:\n",
    "        return 'Low (<$1)'\n",
    "    elif 1 <= value <= 5:\n",
    "        return 'Medium ($1-5)'\n",
    "    else:\n",
    "        return 'High (>$5)'\n",
    "\n",
    "# Then proceed with your existing code\n",
    "segments = ['Zero', 'Low (<$1)', 'Medium ($1-5)', 'High (>$5)']\n",
    "\n",
    "def format_segment(df):\n",
    "    if df.empty or 'revenue_in_usd' not in df.columns:\n",
    "        return pd.Series({s: \"N/A\" for s in segments})\n",
    "    \n",
    "    counts = df['revenue_in_usd'].apply(revenue_class).value_counts()\n",
    "    total = counts.sum()\n",
    "    if total == 0:\n",
    "        return pd.Series({s: \"0.0%\" for s in segments})\n",
    "    return pd.Series({s: f\"{counts.get(s, 0)/total:.1%}\" for s in segments})\n",
    "\n",
    "print(\"\\nRevenue Segment Distribution (Sorted)\")\n",
    "print(\"-\"*50)\n",
    "print(\"Referral Users:\")\n",
    "print(format_segment(referral_rev).to_string())\n",
    "\n",
    "print(\"\\nNon-Referral Users:\")\n",
    "print(format_segment(non_referral_rev).to_string())"
   ]
  },
  {
   "cell_type": "markdown",
   "id": "6b3804ef",
   "metadata": {},
   "source": [
    "We can now move to calculating the Revenue Per User (RPU) for both referral and non-referral users.\n",
    "It also would make sense in finding how much higher or lower the referral RPU is compared to the non-referral RPU, both in absolute and percentage terms"
   ]
  },
  {
   "cell_type": "code",
   "execution_count": 29,
   "id": "29739e1d",
   "metadata": {},
   "outputs": [],
   "source": [
    "# RPU calculation\n",
    "referral_rpu = referral_rev['revenue_in_usd'].sum() / len(referral_rev)\n",
    "non_referral_rpu = non_referral_rev['revenue_in_usd'].sum() / len(non_referral_rev)\n",
    "rpu_diff = referral_rpu - non_referral_rpu\n",
    "pct_diff = (rpu_diff / non_referral_rpu) * 100"
   ]
  },
  {
   "cell_type": "markdown",
   "id": "a6a16475",
   "metadata": {},
   "source": [
    "We’re printing a side-by-side comparison of key revenue metrics (total users, total revenue, RPU, median, zero-revenue %) for referral vs non-referral users.\n",
    "Then we clearly show the difference in RPU and highlight which group performs better in terms of revenue per user"
   ]
  },
  {
   "cell_type": "code",
   "execution_count": 30,
   "id": "502fbf15",
   "metadata": {},
   "outputs": [
    {
     "name": "stdout",
     "output_type": "stream",
     "text": [
      "\n",
      "--------------------------------------------------\n",
      "FINAL RPU COMPARISON\n",
      "--------------------------------------------------\n",
      "Metric                    |     Referral | Non-Referral\n",
      "--------------------------------------------------\n",
      "Total Users               |       39,389 |      131,015\n",
      "Total Revenue             | $    7,937.75 | $   24,630.98\n",
      "Avg Revenue (RPU)         | $      0.2015 | $      0.1880\n",
      "Median Revenue            | $      0.0600 | $      0.0734\n",
      "Zero Revenue Users        |         0.3% |         0.4%\n",
      "\n",
      "--------------------------------------------------\n",
      "RPU DIFFERENCE: $0.0135 (+7.19%)\n",
      "Referral users generate more revenue per user\n"
     ]
    }
   ],
   "source": [
    "# Final comparison\n",
    "print(\"\\n\" + \"-\"*50)\n",
    "print(\"FINAL RPU COMPARISON\")\n",
    "print(\"-\"*50)\n",
    "print(f\"{'Metric':<25} | {'Referral':>12} | {'Non-Referral':>12}\")\n",
    "print(\"-\"*50)\n",
    "print(f\"{'Total Users':<25} | {len(referral_rev):>12,} | {len(non_referral_rev):>12,}\")\n",
    "print(f\"{'Total Revenue':<25} | ${referral_rev['revenue_in_usd'].sum():>12,.2f} | ${non_referral_rev['revenue_in_usd'].sum():>12,.2f}\")\n",
    "print(f\"{'Avg Revenue (RPU)':<25} | ${referral_rpu:>12.4f} | ${non_referral_rpu:>12.4f}\")\n",
    "print(f\"{'Median Revenue':<25} | ${referral_rev['revenue_in_usd'].median():>12.4f} | ${non_referral_rev['revenue_in_usd'].median():>12.4f}\")\n",
    "print(f\"{'Zero Revenue Users':<25} | {((referral_rev['revenue_in_usd'] == 0).sum()/len(referral_rev)):>12.1%} | {((non_referral_rev['revenue_in_usd'] == 0).sum()/len(non_referral_rev)):>12.1%}\")\n",
    "\n",
    "print(\"\\n\" + \"-\"*50)\n",
    "print(f\"RPU DIFFERENCE: ${rpu_diff:.4f} ({pct_diff:+.2f}%)\")\n",
    "if rpu_diff > 0:\n",
    "    print(\"Referral users generate more revenue per user\")\n",
    "else:\n",
    "    print(\"Non-referral users generate more revenue per user\")"
   ]
  },
  {
   "cell_type": "markdown",
   "id": "1b2b1462",
   "metadata": {},
   "source": [
    "### Main Takeaway\n",
    "\n",
    "#### 1. **Overview**\n",
    "\n",
    "This analysis compares the **Revenue Per User (RPU)** between users acquired via **referral programs** and those acquired through **non-referral or organic channels**.\n",
    "\n",
    "\n",
    "### 2. **Key Insights**\n",
    "\n",
    "| Metric                 | Referral     | Non-Referral | Interpretation                                                                                                                                                      |\n",
    "| ---------------------- | ------------ | ------------ | ------------------------------------------------------------------------------------------------------------------------------------------------------------------- |\n",
    "| **Total Users**        | 39,389       | 131,015      | Referral users are \\~23% of the total base. The non-referral base is significantly larger.                                                                          |\n",
    "| **Total Revenue**      | \\$7,937.75   | \\$24,630.98  | Referral users contribute \\~24.4% of the revenue, close to their proportion of users.                                                                               |\n",
    "| **Avg Revenue (RPU)**  | **\\$0.2015** | **\\$0.1880** | Referral users generate **7.19% more revenue per user** than non-referrals.                                                                                         |\n",
    "| **Median Revenue**     | \\$0.0600     | \\$0.0734     | Despite a higher average RPU, the **median is lower for referrals**, suggesting a **skewed distribution** (a few high-value referral users pulling up the average). |\n",
    "| **Zero Revenue Users** | 0.3%         | 0.4%         | Negligible difference - both channels have near-complete monetization.                                                                                              |\n",
    "\n",
    "\n",
    "### 3. **Strategic Interpretation**\n",
    "\n",
    "* **Referral programs are incrementally more effective** in driving revenue per user on average.\n",
    "* **High-value users** in the referral segment are likely responsible for the average lift, despite a lower median.\n",
    "* The referral strategy appears to attract users who, while not consistently high spenders, include **a few power users**.\n",
    "* Since total revenue and total users are roughly proportional between channels, **referrals are not diluting monetization efficiency**.\n",
    "\n",
    "\n",
    "### 4. **Recommendations**\n",
    "\n",
    "* **Double down on referrals**, especially if cost per acquisition is lower than other channels.\n",
    "* **Segment referral users** further - identify and profile high-RPU cohorts to refine targeting.\n",
    "* Address the **long-tail of low or median spenders** through lifecycle nudges, upselling, or engagement-based incentives.\n",
    "\n",
    "\n",
    "### 5. **Bottom Line**\n",
    "\n",
    "> **Referral users generate 7.2% more revenue per user than non-referral users, with skew driven by a few high earners. The channel is performing well and merits further investment.**\n"
   ]
  }
 ],
 "metadata": {
  "kernelspec": {
   "display_name": "Python 3",
   "language": "python",
   "name": "python3"
  },
  "language_info": {
   "codemirror_mode": {
    "name": "ipython",
    "version": 3
   },
   "file_extension": ".py",
   "mimetype": "text/x-python",
   "name": "python",
   "nbconvert_exporter": "python",
   "pygments_lexer": "ipython3",
   "version": "3.12.10"
  }
 },
 "nbformat": 4,
 "nbformat_minor": 5
}
